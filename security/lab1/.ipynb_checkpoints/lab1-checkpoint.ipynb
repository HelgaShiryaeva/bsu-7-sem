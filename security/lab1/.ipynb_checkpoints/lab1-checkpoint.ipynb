{
 "cells": [
  {
   "cell_type": "markdown",
   "metadata": {
    "collapsed": true
   },
   "source": [
    "# Laboratory work #1\n",
    "\n",
    "### Caesar and Vigener encryption / decryption\n",
    "\n",
    "Volha Shyrayeva,\n",
    "FAMCS, course 4, group 4"
   ]
  },
  {
   "cell_type": "code",
   "execution_count": 1,
   "metadata": {},
   "outputs": [],
   "source": [
    "ALPHABET_EN = [\"a\", \"b\", \"c\", \"d\", \"e\", \"f\", \"g\", \"h\", \"i\", \"j\", \"k\", \"l\", \"m\", \"n\", \"o\", \"p\", \"q\", \"r\", \"s\", \"t\",  \"u\",\n",
    "    \"v\", \"w\", \"x\", \"y\", \"z\"]\n",
    "\n",
    "ALPHABET_FREQS_EN = {\n",
    "    \"a\": 0.08167,\n",
    "    \"b\": 0.01492,\n",
    "    \"c\": 0.02782,\n",
    "    \"d\": 0.04253,\n",
    "    \"e\": 0.12702,\n",
    "    \"f\": 0.0228,\n",
    "    \"g\": 0.02015,\n",
    "    \"h\": 0.06094,\n",
    "    \"i\": 0.06966,\n",
    "    \"j\": 0.00153,\n",
    "    \"k\": 0.00772,\n",
    "    \"l\": 0.04025,\n",
    "    \"m\": 0.02406,\n",
    "    \"n\": 0.06749,\n",
    "    \"o\": 0.07507,\n",
    "    \"p\": 0.01929,\n",
    "    \"q\": 0.00095,\n",
    "    \"r\": 0.05987,\n",
    "    \"s\": 0.06327,\n",
    "    \"t\": 0.09056,\n",
    "    \"u\": 0.02758,\n",
    "    \"v\": 0.00978,\n",
    "    \"w\": 0.0236,\n",
    "    \"x\": 0.0015,\n",
    "    \"y\": 0.01974,\n",
    "    \"z\": 0.00074\n",
    "  }\n",
    "\n",
    "def read(filename):\n",
    "    f = open(filename, \"r\", encoding='utf-8')\n",
    "    return f.read()\n",
    "\n",
    "def preprocess_text(text, alphabet):\n",
    "    processed = ''\n",
    "    for i, char in enumerate(text):\n",
    "        if char not in alphabet:\n",
    "            if char.isupper():\n",
    "                char = char.lower()\n",
    "            else:\n",
    "                continue\n",
    "        processed += char\n",
    "    return processed.lower()\n",
    "\n",
    "def restore_text(origin, decrypted, alphabet):\n",
    "    for i, char in enumerate(origin):\n",
    "        if(origin[i] not in alphabet):\n",
    "            if(origin[i].isupper()):\n",
    "                decrypted = decrypted[:i] + decrypted[i].upper() + decrypted[i + 1:]\n",
    "                continue\n",
    "            decrypted = decrypted[:i] + origin[i] + decrypted[i:]\n",
    "    \n",
    "    return decrypted"
   ]
  },
  {
   "cell_type": "markdown",
   "metadata": {},
   "source": [
    "   ## Caesar encryption "
   ]
  },
  {
   "cell_type": "code",
   "execution_count": 2,
   "metadata": {},
   "outputs": [],
   "source": [
    "def shift_alphabet(alphabet, shift):\n",
    "    shifted = alphabet[shift:] + (alphabet[:shift])\n",
    "    return shifted\n",
    "\n",
    "\n",
    "def caesar_encrypt(text, shift, alphabet):\n",
    "    shifted_alphabet = shift_alphabet(alphabet, shift)\n",
    "    encrypted = ''\n",
    "    for char in text:\n",
    "        encrypted += (shifted_alphabet[alphabet.index(char)])\n",
    "        \n",
    "    return encrypted\n",
    "\n",
    "\n",
    "def caesar_decrypt(text, shift, alphabet):\n",
    "    shifted_alphabet = shift_alphabet(alphabet, shift)\n",
    "    decrypted = ''\n",
    "    for char in text:\n",
    "        decrypted += (alphabet[shifted_alphabet.index(char)])\n",
    "        \n",
    "    return decrypted"
   ]
  },
  {
   "cell_type": "markdown",
   "metadata": {},
   "source": [
    "## Vigener encryption / decryption"
   ]
  },
  {
   "cell_type": "code",
   "execution_count": 3,
   "metadata": {},
   "outputs": [],
   "source": [
    "def substitute(char, alphabet, shifted_alphabet):\n",
    "    return shifted_alphabet[alphabet.index(char)]\n",
    "\n",
    "\n",
    "def vigenere_encrypt(text, key, alphabet):\n",
    "    shifted_alphabets = []\n",
    "    encrypted = ''\n",
    "    key_length = len(key)\n",
    "    for char in key.lower():\n",
    "        shifted_alphabets.append(shift_alphabet(alphabet, alphabet.index(char)))\n",
    "    for i, char in enumerate(text):\n",
    "        encrypted += substitute(char, alphabet, shifted_alphabets[i % key_length])\n",
    "        \n",
    "    return encrypted\n",
    "                  \n",
    "    \n",
    "def vigenere_decrypt(text, key, alphabet):\n",
    "    shifted_alphabets = []\n",
    "    decrypted = ''\n",
    "    key_length = len(key)\n",
    "    for char in key.lower():\n",
    "        shifted_alphabets.append(shift_alphabet(alphabet, alphabet.index(char)))\n",
    "    for i, char in enumerate(text):\n",
    "        decrypted += substitute(char, shifted_alphabets[i % key_length], alphabet)\n",
    "        \n",
    "    return decrypted\n",
    "        "
   ]
  },
  {
   "cell_type": "markdown",
   "metadata": {},
   "source": [
    "## Running examples"
   ]
  },
  {
   "cell_type": "code",
   "execution_count": 41,
   "metadata": {},
   "outputs": [],
   "source": [
    "def read_and_process(filename):\n",
    "    text_unprocessed = read(filename)\n",
    "    print('Original text \\n')\n",
    "    print(text_unprocessed[:1000] + '\\n')\n",
    "    text = preprocess_text(text_unprocessed, ALPHABET_EN)\n",
    "    print(len(text))\n",
    "    \n",
    "    return [text_unprocessed, text]"
   ]
  },
  {
   "cell_type": "code",
   "execution_count": 42,
   "metadata": {},
   "outputs": [
    {
     "name": "stdout",
     "output_type": "stream",
     "text": [
      "Original text \n",
      "\n",
      "To Sherlock Holmes she is always the woman. I have seldom heard him mention her under any other name. In his eyes she eclipses and predominates the whole of her sex. It was not that he felt any emotion akin to love for Irene Adler. All emotions, and that one particularly, were abhorrent to his cold, precise but admirably balanced mind. He was, I take it, the most perfect reasoning and observing machine that the world has seen, but as a lover he would have placed himself in a false position. He never spoke of the softer passions, save with a gibe and a sneer. They were admirable things for the observer—excellent for drawing the veil from men’s motives and actions. But for the trained reasoner to admit such intrusions into his own delicate and finely adjusted temperament was to introduce a distracting factor which might throw a doubt upon all his mental results. Grit in a sensitive instrument, or a crack in one of his own high-power lenses, would not be more disturbing than a strong emot\n",
      "\n",
      "1058610\n"
     ]
    }
   ],
   "source": [
    "text_unprocessed, text = read_and_process('holmes.txt')"
   ]
  },
  {
   "cell_type": "code",
   "execution_count": 6,
   "metadata": {},
   "outputs": [],
   "source": [
    "def run_caesar(text_unprocessed, text, alphabet, shift):\n",
    "    print('Caesar : shift = {} \\n'.format(shift))\n",
    "    print(text_unprocessed[:245] + '\\n')\n",
    "\n",
    "    encrypted = caesar_encrypt(text, shift, alphabet)\n",
    "    decrypted = caesar_decrypt(encrypted, shift, alphabet)\n",
    "\n",
    "    print(encrypted[:208] + '\\n')\n",
    "    print(restore_text(text_unprocessed, decrypted, alphabet)[:245] + '\\n')\n",
    "    print('Decryption succeed : {}'.format(decrypted == text))"
   ]
  },
  {
   "cell_type": "code",
   "execution_count": 7,
   "metadata": {},
   "outputs": [
    {
     "name": "stdout",
     "output_type": "stream",
     "text": [
      "Caesar : shift = 5 \n",
      "\n",
      "To Sherlock Holmes she is always the woman. I have seldom heard him mention her under any other name. In his eyes she eclipses and predominates the whole of her sex. It was not that he felt any emotion akin to love for Irene Adler. All emotions,\n",
      "\n",
      "ytxmjwqthpmtqrjxxmjnxfqbfdxymjbtrfsnmfajxjqitrmjfwimnrrjsyntsmjwzsijwfsdtymjwsfrjnsmnxjdjxxmjjhqnuxjxfsiuwjitrnsfyjxymjbmtqjtkmjwxjcnybfxstyymfymjkjqyfsdjrtyntsfpnsytqtajktwnwjsjfiqjwfqqjrtyntsxfsiymfytsjufwy\n",
      "\n",
      "To Sherlock Holmes she is always the woman. I have seldom heard him mention her under any other name. In his eyes she eclipses and predominates the whole of her sex. It was not that he felt any emotion akin to love for Irene Adler. All emotions,\n",
      "\n",
      "Decryption succeed : True\n"
     ]
    }
   ],
   "source": [
    "run_caesar(text_unprocessed[:256], text[:256], ALPHABET_EN, 5)"
   ]
  },
  {
   "cell_type": "code",
   "execution_count": 8,
   "metadata": {},
   "outputs": [],
   "source": [
    "def run_vigenere(text_unprocessed, text, alphabet, key): \n",
    "    print('Vigener : key = {} \\n'.format(key))\n",
    "    print('Vigener : key length = {} \\n'.format(len(key)))\n",
    "    #print(text_unprocessed[:256] + '\\n')\n",
    "\n",
    "    encrypted = vigenere_encrypt(text, key, alphabet)\n",
    "    decrypted = vigenere_decrypt(encrypted, key, alphabet)\n",
    "\n",
    "    #print(encrypted[:256] + '\\n')\n",
    "    #print(restore_text(text_unprocessed[:256], decrypted, alphabet)[] + '\\n')\n",
    "    print('Decryption succeed : {}'.format(decrypted == text))"
   ]
  },
  {
   "cell_type": "code",
   "execution_count": 9,
   "metadata": {},
   "outputs": [
    {
     "name": "stdout",
     "output_type": "stream",
     "text": [
      "Vigener : key = mouse \n",
      "\n",
      "Vigener : key length = 5 \n",
      "\n",
      "Decryption succeed : True\n"
     ]
    }
   ],
   "source": [
    "run_vigenere(text_unprocessed, text, ALPHABET_EN, 'mouse')"
   ]
  },
  {
   "cell_type": "markdown",
   "metadata": {},
   "source": [
    "## Kasiski chipher breaker"
   ]
  },
  {
   "cell_type": "code",
   "execution_count": 10,
   "metadata": {},
   "outputs": [],
   "source": [
    "# Computes all distances between equal subsequences length > 2\n",
    "\n",
    "def get_distances(l):\n",
    "    freq =[]\n",
    "    i = 0\n",
    "    while i < len(l):\n",
    "        long = len(l[i:i+3])\n",
    "        if long == 3:\n",
    "            j = i + 1\n",
    "            while j < len(l):\n",
    "                if l[i:i+long] == l[j:j+long]:\n",
    "                    while l[i:i+long] == l[j:j+long]:\n",
    "                        long += 1\n",
    "                    long -= 1 \n",
    "                    diff = j - i\n",
    "                    freq.append(diff)\n",
    "                    j = j + long + 1\n",
    "                else:\n",
    "                    j += 1\n",
    "            i += long - 2\n",
    "        else:\n",
    "            i += + 1\n",
    "    return freq"
   ]
  },
  {
   "cell_type": "code",
   "execution_count": 11,
   "metadata": {},
   "outputs": [],
   "source": [
    "# Splits text into subtexts according to the key length\n",
    "\n",
    "def split_text(text, key_length):\n",
    "    splitted = []\n",
    "    [splitted.append('') for _ in range(key_length)]\n",
    "    for i in range(len(text)):\n",
    "        splitted[i % key_length] += text[i]\n",
    "    \n",
    "    return splitted"
   ]
  },
  {
   "cell_type": "code",
   "execution_count": 94,
   "metadata": {},
   "outputs": [],
   "source": [
    "# Computes all pairs of great common divisors in array of nums\n",
    "\n",
    "from math import gcd\n",
    "\n",
    "def gcd_list(nums):\n",
    "    gcds = {}\n",
    "    for i in range(len(nums)):\n",
    "        for j in range(i + 1, len(nums)):\n",
    "            _gcd = gcd(nums[i], nums[j])\n",
    "            if _gcd in gcds:\n",
    "                gcds[_gcd] += 1\n",
    "            else:\n",
    "                gcds[_gcd] = 1\n",
    "    \n",
    "    return sorted(gcds.items(),key=lambda x: x[1], reverse=True)"
   ]
  },
  {
   "cell_type": "code",
   "execution_count": 95,
   "metadata": {},
   "outputs": [],
   "source": [
    "# Counts all occurencies of letters in the text\n",
    "\n",
    "def count_occurencies(l, is_percent = False): \n",
    "    d={}\n",
    "    for elt in l:\n",
    "        if elt in d:\n",
    "            d[elt] += 1\n",
    "        else:\n",
    "            d[elt] = 1\n",
    "    \n",
    "    if (is_percent):\n",
    "        for v in d:\n",
    "            d[v] /= len(l)\n",
    "    return sorted(d.items(),key=lambda x: x[1], reverse=True)"
   ]
  },
  {
   "cell_type": "code",
   "execution_count": 96,
   "metadata": {},
   "outputs": [],
   "source": [
    "def get_possible_key_lengths(text, possible_keys_amount=3):\n",
    "    distances = get_distances(text)\n",
    "    return gcd_list(distances)[:possible_keys_amount]\n",
    "\n",
    "\n",
    "def analyse_key_lengths(text, key_lengths, freqs_dict, alphabet):\n",
    "    most_frequent = sorted(freqs_dict.items(), key = lambda x : x[1], reverse = True)[0][0]\n",
    "    key_occurencies_sum = sum([i[1] for i in key_lengths])\n",
    "    chi = {}\n",
    "    \n",
    "    for length in key_lengths:\n",
    "        splitted = split_text(text, length[0])\n",
    "        for text_part in splitted:\n",
    "            occs = count_occurencies(text_part, True)\n",
    "            shift = alphabet.index(occs[0][0]) - alphabet.index(most_frequent)\n",
    "            shifted_alphabet = shift_alphabet(alphabet, shift)\n",
    "            chi_value = 0.\n",
    "            for occ in occs:\n",
    "                real_probability = freqs_dict[substitute(occ[0], alphabet, shifted_alphabet)]\n",
    "                chi_value += (occ[1] - real_probability) ** 2 / real_probability\n",
    "        chi[length[0]] = chi_value / length[1] * key_occurencies_sum / length[0]\n",
    "    \n",
    "    return sorted(chi.items(),key=lambda x: x[1]), most_frequent\n",
    "                    \n",
    "\n",
    "def restore_key(text, key_length, alphabet, most_frequent):\n",
    "    splitted_text = split_text(text, key_length)\n",
    "    key = ''\n",
    "    for i in range(key_length):\n",
    "        occurencies = count_occurencies(splitted_text[i], True)\n",
    "        shift = alphabet.index(occurencies[0][0]) - alphabet.index(most_frequent)\n",
    "        key += alphabet[shift]\n",
    "    \n",
    "    return key"
   ]
  },
  {
   "cell_type": "code",
   "execution_count": 97,
   "metadata": {},
   "outputs": [],
   "source": [
    "def kasiski(text, alphabet):\n",
    "    key_lengths = get_possible_key_lengths(text)\n",
    "    key_length, most_frequent = analyse_key_lengths(text, key_lengths, ALPHABET_FREQS_EN, alphabet)\n",
    "    key = restore_key(text, key_length[0][0], alphabet, most_frequent)\n",
    "    \n",
    "    return key, vigenere_decrypt(text, key, alphabet)"
   ]
  },
  {
   "cell_type": "markdown",
   "metadata": {},
   "source": [
    "## Evaluate Kasiski"
   ]
  },
  {
   "cell_type": "code",
   "execution_count": 99,
   "metadata": {},
   "outputs": [
    {
     "name": "stdout",
     "output_type": "stream",
     "text": [
      "key\n"
     ]
    }
   ],
   "source": [
    "key, decrypted = kasiski(vigenere_encrypt(text[:1000], 'key', ALPHABET_EN), ALPHABET_EN)\n",
    "print(key)\n",
    "#print('Succeed : {} \\n'.format(decrypted == text[:5000]))\n",
    "#print(restore_text(text_unprocessed, decrypted, ALPHABET_EN))"
   ]
  },
  {
   "cell_type": "code",
   "execution_count": null,
   "metadata": {},
   "outputs": [
    {
     "name": "stdout",
     "output_type": "stream",
     "text": [
      "250, 0.22857142857142856\n",
      "\n",
      "500, 0.24285714285714285\n",
      "\n",
      "1000, 0.4\n",
      "\n",
      "2500, 0.7142857142857143\n",
      "\n",
      "5000, 0.8571428571428571\n",
      "\n"
     ]
    }
   ],
   "source": [
    "import random\n",
    "results = {}\n",
    "random.seed()\n",
    "n = len(text)\n",
    "trials = [10, 1]\n",
    "text_lengths = [250, 500, 1000, 2500, 5000, 10000, 50000, 100000, 500000, 1000000]\n",
    "key_lengths = [1, 2, 3, 5, 7, 10, 13]\n",
    "keys = ['a', 'xs', 'key', 'even', 'mouse', 'bigmouse', 'verybigmouse']\n",
    "file = open(\"variable_length.csv\",\"w+\")\n",
    "file.write('Text length, Probability\\n')\n",
    "\n",
    "for text_length in text_lengths:\n",
    "    probability = 0.\n",
    "    trial = trials[0]\n",
    "    if text_length > 1000:\n",
    "        trial = trials[1]\n",
    "    for i in range(trial):\n",
    "        start = n\n",
    "        while(start + text_length > n):\n",
    "            random.seed()\n",
    "            start = int(random.random() % n)\n",
    "        cropped_text = text[start:start + text_length]\n",
    "        for i in key_lengths:\n",
    "            gen_key_list = random.sample(ALPHABET_EN, i)\n",
    "            gen_key = ''\n",
    "            for char in gen_key_list:\n",
    "                gen_key += char\n",
    "            key, decrypted = kasiski(vigenere_encrypt(cropped_text, gen_key, ALPHABET_EN), ALPHABET_EN)\n",
    "            if (key == gen_key):\n",
    "                probability += 1        \n",
    "    probability /= (trial * len(key_lengths))\n",
    "    results[text_length] = probability\n",
    "    print('{}, {}\\n'.format(text_length, probability))\n",
    "    \n",
    "print(results)"
   ]
  },
  {
   "cell_type": "code",
   "execution_count": 119,
   "metadata": {},
   "outputs": [],
   "source": [
    "% matplotlib inline\n",
    "import numpy as np\n",
    "import matplotlib.pyplot as plt\n",
    "plt.rcParams['figure.figsize'] = [10, 8]\n",
    "import pandas as pd\n",
    "\n",
    "results_variable_length = pd.read_csv(\"variable_length.csv\")\n",
    "\n",
    "def plot_table(results):\n",
    "    for pos in ['right','top','bottom','left']:\n",
    "        plt.gca().spines[pos].set_visible(False)\n",
    "    plt.tick_params(axis='x', which='both', bottom=False, top=False, labelbottom=False)\n",
    "    plt.tick_params(axis='y', which='both', right=False, left=False, labelleft=False)\n",
    "\n",
    "    the_table = plt.table(cellText=results.values, colLabels=results.columns, loc='center')\n",
    "    the_table.auto_set_font_size(False)\n",
    "    the_table.set_fontsize(25)\n",
    "    the_table.scale(2, 4)\n",
    "    \n",
    "    plt.show()"
   ]
  },
  {
   "cell_type": "code",
   "execution_count": 120,
   "metadata": {},
   "outputs": [
    {
     "data": {
      "text/markdown": [
       "## Probability of break with variable text lengths"
      ],
      "text/plain": [
       "<IPython.core.display.Markdown object>"
      ]
     },
     "metadata": {},
     "output_type": "display_data"
    },
    {
     "data": {
      "image/png": "[encoded data removed]",
      "text/plain": [
       "<Figure size 720x576 with 1 Axes>"
      ]
     },
     "metadata": {},
     "output_type": "display_data"
    }
   ],
   "source": [
    "from IPython.display import display, Markdown\n",
    "\n",
    "display(Markdown('## Probability of break with variable text lengths'))\n",
    "plot_table(results_variable_length)"
   ]
  },
  {
   "cell_type": "code",
   "execution_count": 121,
   "metadata": {},
   "outputs": [],
   "source": [
    "def plot_graph(df):\n",
    "    plt.figure()\n",
    "    x = np.array(df['Text length'])\n",
    "    y = np.array(df['Probability'])\n",
    "    plt.plot(x, y, marker='o')\n",
    "    plt.show()"
   ]
  },
  {
   "cell_type": "code",
   "execution_count": 122,
   "metadata": {},
   "outputs": [
    {
     "data": {
      "text/markdown": [
       "## Probability of break with variable text lengths"
      ],
      "text/plain": [
       "<IPython.core.display.Markdown object>"
      ]
     },
     "metadata": {},
     "output_type": "display_data"
    },
    {
     "data": {
      "image/png": "[encoded data removed]",
      "text/plain": [
       "<Figure size 720x576 with 1 Axes>"
      ]
     },
     "metadata": {
      "needs_background": "light"
     },
     "output_type": "display_data"
    }
   ],
   "source": [
    "display(Markdown('## Probability of break with variable text lengths'))\n",
    "plot_graph(results_variable_length)"
   ]
  },
  {
   "cell_type": "code",
   "execution_count": null,
   "metadata": {},
   "outputs": [],
   "source": []
  },
  {
   "cell_type": "code",
   "execution_count": null,
   "metadata": {},
   "outputs": [],
   "source": []
  }
 ],
 "metadata": {
  "kernelspec": {
   "display_name": "Python 3",
   "language": "python",
   "name": "python3"
  },
  "language_info": {
   "codemirror_mode": {
    "name": "ipython",
    "version": 3
   },
   "file_extension": ".py",
   "mimetype": "text/x-python",
   "name": "python",
   "nbconvert_exporter": "python",
   "pygments_lexer": "ipython3",
   "version": "3.6.6"
  }
 },
 "nbformat": 4,
 "nbformat_minor": 1
}
