{
 "cells": [
  {
   "cell_type": "markdown",
   "metadata": {
    "collapsed": true
   },
   "source": [
    "# Laboratory work #1\n",
    "\n",
    "### Caesar and Vigener encryption / decryption\n",
    "\n",
    "Volha Shyrayeva,\n",
    "FAMCS, course 4, group 4"
   ]
  },
  {
   "cell_type": "code",
   "execution_count": null,
   "metadata": {},
   "outputs": [],
   "source": [
    "ALPHABET_EN = [\"a\", \"b\", \"c\", \"d\", \"e\", \"f\", \"g\", \"h\", \"i\", \"j\", \"k\", \"l\", \"m\", \"n\", \"o\", \"p\", \"q\", \"r\", \"s\", \"t\",  \"u\",\n",
    "    \"v\", \"w\", \"x\", \"y\", \"z\"]\n",
    "\n",
    "ALPHABET_RU = [\"а\", \"б\", \"в\", \"г\", \"д\", \"е\", \"ё\", \"ж\", \"з\", \"и\", \"й\", \"к\", \"л\", \"м\", \"н\", \"о\", \"п\", \"р\", \"с\", \"т\",  \"у\",\n",
    "    \"ф\", \"х\", \"ц\", \"ч\", \"ш\", \"щ\", \"ъ\", \"ы\", \"ь\", \"э\", \"ю\", \"я\"\n",
    "]\n",
    "\n",
    "ALPHABET_FREQS_EN = {\n",
    "    \"a\": 0.08167,\n",
    "    \"b\": 0.01492,\n",
    "    \"c\": 0.02782,\n",
    "    \"d\": 0.04253,\n",
    "    \"e\": 0.12702,\n",
    "    \"f\": 0.0228,\n",
    "    \"g\": 0.02015,\n",
    "    \"h\": 0.06094,\n",
    "    \"i\": 0.06966,\n",
    "    \"j\": 0.00153,\n",
    "    \"k\": 0.00772,\n",
    "    \"l\": 0.04025,\n",
    "    \"m\": 0.02406,\n",
    "    \"n\": 0.06749,\n",
    "    \"o\": 0.07507,\n",
    "    \"p\": 0.01929,\n",
    "    \"q\": 0.00095,\n",
    "    \"r\": 0.05987,\n",
    "    \"s\": 0.06327,\n",
    "    \"t\": 0.09056,\n",
    "    \"u\": 0.02758,\n",
    "    \"v\": 0.00978,\n",
    "    \"w\": 0.0236,\n",
    "    \"x\": 0.0015,\n",
    "    \"y\": 0.01974,\n",
    "    \"z\": 0.00074\n",
    "  }\n",
    "\n",
    "def read(filename):\n",
    "    f = open(filename, \"r\", encoding='utf-8')\n",
    "    return f.read()\n",
    "\n",
    "def preprocess_text(text):\n",
    "    processed = text.replace(' ', '')\n",
    "    processed = processed.replace('.', '')\n",
    "    return processed.lower()\n",
    "\n",
    "def restore_text(origin, decrypted, alphabet):\n",
    "    for i, char in enumerate(origin):\n",
    "        if(origin[i] not in alphabet):\n",
    "            if(origin[i].isupper()):\n",
    "                decrypted = decrypted[:i] + decrypted[i].upper() + decrypted[i + 1:]\n",
    "                continue\n",
    "            decrypted = decrypted[:i] + origin[i] + decrypted[i:]\n",
    "    \n",
    "    return decrypted"
   ]
  },
  {
   "cell_type": "markdown",
   "metadata": {},
   "source": [
    "   ## Caesar encryption "
   ]
  },
  {
   "cell_type": "code",
   "execution_count": 203,
   "metadata": {},
   "outputs": [],
   "source": [
    "def shift_alphabet(alphabet, shift):\n",
    "    shifted = alphabet[shift:] + (alphabet[:shift])\n",
    "    return shifted\n",
    "\n",
    "\n",
    "def caesar_encrypt(text, shift, alphabet):\n",
    "    shifted_alphabet = shift_alphabet(alphabet, shift)\n",
    "    encrypted = ''\n",
    "    for char in text:\n",
    "        encrypted += (shifted_alphabet[alphabet.index(char)])\n",
    "        \n",
    "    return encrypted\n",
    "\n",
    "\n",
    "def caesar_decrypt(text, shift, alphabet):\n",
    "    shifted_alphabet = shift_alphabet(alphabet, shift)\n",
    "    decrypted = ''\n",
    "    for char in text:\n",
    "        decrypted += (alphabet[shifted_alphabet.index(char)])\n",
    "        \n",
    "    return decrypted"
   ]
  },
  {
   "cell_type": "markdown",
   "metadata": {},
   "source": [
    "## Vigener encryption / decryption"
   ]
  },
  {
   "cell_type": "code",
   "execution_count": 204,
   "metadata": {},
   "outputs": [],
   "source": [
    "def substitute(char, alphabet, shifted_alphabet):\n",
    "    return shifted_alphabet[alphabet.index(char)]\n",
    "\n",
    "\n",
    "def vigenere_encrypt(text, key, alphabet):\n",
    "    shifted_alphabets = []\n",
    "    encrypted = ''\n",
    "    key_length = len(key)\n",
    "    for char in key.lower():\n",
    "        shifted_alphabets.append(shift_alphabet(alphabet, alphabet.index(char)))\n",
    "    for i, char in enumerate(text):\n",
    "        encrypted += substitute(char, alphabet, shifted_alphabets[i % key_length])\n",
    "        \n",
    "    return encrypted\n",
    "                  \n",
    "    \n",
    "def vigenere_decrypt(text, key, alphabet):\n",
    "    shifted_alphabets = []\n",
    "    decrypted = ''\n",
    "    key_length = len(key)\n",
    "    for char in key.lower():\n",
    "        shifted_alphabets.append(shift_alphabet(alphabet, alphabet.index(char)))\n",
    "    for i, char in enumerate(text):\n",
    "        decrypted += substitute(char, shifted_alphabets[i % key_length], alphabet)\n",
    "        \n",
    "    return decrypted\n",
    "        "
   ]
  },
  {
   "cell_type": "markdown",
   "metadata": {},
   "source": [
    "## Running examples"
   ]
  },
  {
   "cell_type": "code",
   "execution_count": 245,
   "metadata": {},
   "outputs": [],
   "source": [
    "def read_and_process(filename):\n",
    "    text_unprocessed = read(filename)\n",
    "    print('Original text \\n')\n",
    "    print(text_unprocessed[:245] + '\\n')\n",
    "    print('Processed text \\n')\n",
    "    text = preprocess_text(text_unprocessed)\n",
    "    print(text[:208] + '\\n')\n",
    "    \n",
    "    return [text_unprocessed, text]"
   ]
  },
  {
   "cell_type": "code",
   "execution_count": 246,
   "metadata": {},
   "outputs": [
    {
     "name": "stdout",
     "output_type": "stream",
     "text": [
      "Original text \n",
      "\n",
      "New had happen unable uneasy. Drawings can followed improved out sociable not. Earnestly so do instantly pretended. See general few civilly amiable pleased account carried. Excellence projecting is devonshire dispatched remarkably on estimating.\n",
      "\n",
      "Processed text \n",
      "\n",
      "newhadhappenunableuneasydrawingscanfollowedimprovedoutsociablenotearnestlysodoinstantlypretendedseegeneralfewcivillyamiablepleasedaccountcarriedexcellenceprojectingisdevonshiredispatchedremarkablyonestimating\n",
      "\n"
     ]
    }
   ],
   "source": [
    "text_unprocessed, text = read_and_process('text.txt')"
   ]
  },
  {
   "cell_type": "code",
   "execution_count": 247,
   "metadata": {},
   "outputs": [],
   "source": [
    "def run_caesar(text_unprocessed, text, alphabet, shift):\n",
    "    print('Caesar : shift = {} \\n'.format(shift))\n",
    "    print(text_unprocessed[:245] + '\\n')\n",
    "\n",
    "    encrypted = caesar_encrypt(text, shift, alphabet)\n",
    "    decrypted = caesar_decrypt(encrypted, shift, alphabet)\n",
    "\n",
    "    print(encrypted[:208] + '\\n')\n",
    "    print(restore_text(text_unprocessed, decrypted, alphabet)[:245] + '\\n')\n",
    "    print('Decryption succeed : {}'.format(decrypted == text))"
   ]
  },
  {
   "cell_type": "code",
   "execution_count": 248,
   "metadata": {},
   "outputs": [
    {
     "name": "stdout",
     "output_type": "stream",
     "text": [
      "Caesar : shift = 5 \n",
      "\n",
      "New had happen unable uneasy. Drawings can followed improved out sociable not. Earnestly so do instantly pretended. See general few civilly amiable pleased account carried. Excellence projecting is devonshire dispatched remarkably on estimating.\n",
      "\n",
      "sjbmfimfuujszsfgqjzsjfxdiwfbnslxhfsktqqtbjinruwtajitzyxthnfgqjstyjfwsjxyqdxtitnsxyfsyqduwjyjsijixjjljsjwfqkjbhnanqqdfrnfgqjuqjfxjifhhtzsyhfwwnjijchjqqjshjuwtojhynslnxijatsxmnwjinxufyhmjiwjrfwpfgqdtsjxynrfynsl\n",
      "\n",
      "New had happen unable uneasy. Drawings can followed improved out sociable not. Earnestly so do instantly pretended. See general few civilly amiable pleased account carried. Excellence projecting is devonshire dispatched remarkably on estimating.\n",
      "\n",
      "Decryption succeed : True\n"
     ]
    }
   ],
   "source": [
    "run_caesar(text_unprocessed, text, ALPHABET_EN, 5)"
   ]
  },
  {
   "cell_type": "code",
   "execution_count": 249,
   "metadata": {},
   "outputs": [],
   "source": [
    "def run_vigenere(text_unprocessed, text, alphabet, key): \n",
    "    print('Vigener : key = {} \\n'.format(key))\n",
    "    print(text_unprocessed[:245] + '\\n')\n",
    "\n",
    "    encrypted = vigenere_encrypt(text, key, alphabet)\n",
    "    decrypted = vigenere_decrypt(encrypted, key, alphabet)\n",
    "\n",
    "    print(encrypted[:208] + '\\n')\n",
    "    print(restore_text(text_unprocessed, decrypted, alphabet)[:245] + '\\n')\n",
    "    print('Decryption succeed : {}'.format(decrypted == text))"
   ]
  },
  {
   "cell_type": "code",
   "execution_count": 250,
   "metadata": {},
   "outputs": [
    {
     "name": "stdout",
     "output_type": "stream",
     "text": [
      "Vigener : key = mouse \n",
      "\n",
      "New had happen unable uneasy. Drawings can followed improved out sociable not. Earnestly so do instantly pretended. See general few civilly amiable pleased account carried. Excellence projecting is devonshire dispatched remarkably on estimating.\n",
      "\n",
      "zsqzepvuhtqbofenzymrqomqhdoqarsgwsrrcfdsisxaqbfinipcolwaqcsfxshgxqolfiehfqwariarehufxxmjjifshvipgywkqbyjextyogujcdpkogaenzyhpqomwhmqwgyzhwsvdwyvijqydpqbwwtdcdwgfwhymerynszgbavqrcktmhwzipfyeedyutpkchwwfwgsxuba\n",
      "\n",
      "New had happen unable uneasy. Drawings can followed improved out sociable not. Earnestly so do instantly pretended. See general few civilly amiable pleased account carried. Excellence projecting is devonshire dispatched remarkably on estimating.\n",
      "\n",
      "Decryption succeed : True\n"
     ]
    }
   ],
   "source": [
    "run_vigenere(text_unprocessed, text, ALPHABET_EN, 'mouse')"
   ]
  },
  {
   "cell_type": "markdown",
   "metadata": {},
   "source": [
    "## Kasiski chipher breaker"
   ]
  },
  {
   "cell_type": "code",
   "execution_count": 251,
   "metadata": {},
   "outputs": [],
   "source": [
    "# Computes all distances between equal subsequences length > 2\n",
    "\n",
    "def get_distances(l):\n",
    "    freq =[]\n",
    "    i = 0\n",
    "    while i < len(l):\n",
    "        long = len(l[i:i+3])\n",
    "        if long == 3:\n",
    "            j = i + 1\n",
    "            while j < len(l):\n",
    "                if l[i:i+long] == l[j:j+long]:\n",
    "                    while l[i:i+long] == l[j:j+long]:\n",
    "                        long += 1\n",
    "                    long -= 1 \n",
    "                    diff = j - i\n",
    "                    freq.append(diff)\n",
    "                    j = j + long + 1\n",
    "                else:\n",
    "                    j += 1\n",
    "            i += long - 2\n",
    "        else:\n",
    "            i += + 1\n",
    "    return freq"
   ]
  },
  {
   "cell_type": "code",
   "execution_count": 252,
   "metadata": {},
   "outputs": [],
   "source": [
    "# Splits text into subtexts according to the key length\n",
    "\n",
    "def split_text(text, key_length):\n",
    "    splitted = []\n",
    "    [splitted.append('') for _ in range(key_length)]\n",
    "    for i in range(len(text)):\n",
    "        splitted[i % key_length] += text[i]\n",
    "    \n",
    "    return splitted"
   ]
  },
  {
   "cell_type": "code",
   "execution_count": 253,
   "metadata": {},
   "outputs": [],
   "source": [
    "# Computes all pairs of great common divisors in array of nums\n",
    "\n",
    "from math import gcd\n",
    "\n",
    "def gcd_list(nums):\n",
    "    gcds = []\n",
    "    for i in range(len(nums)):\n",
    "        for j in range(i + 1, len(nums)):\n",
    "            _gcd = gcd(nums[i], nums[j])\n",
    "            gcds.append(_gcd)\n",
    "    \n",
    "    return gcds"
   ]
  },
  {
   "cell_type": "code",
   "execution_count": 254,
   "metadata": {},
   "outputs": [],
   "source": [
    "# Counts all occurencies of letters in the text\n",
    "\n",
    "def count_occurencies(l, is_percent = False): \n",
    "    d={}\n",
    "    for elt in l:\n",
    "        if elt in d:\n",
    "            d[elt] += 1\n",
    "        else:\n",
    "            d[elt] = 1\n",
    "    \n",
    "    if (is_percent):\n",
    "        for v in d:\n",
    "            d[v] /= len(l)\n",
    "    return sorted(d.items(),key=lambda x: x[1], reverse=True)"
   ]
  },
  {
   "cell_type": "code",
   "execution_count": 282,
   "metadata": {},
   "outputs": [],
   "source": [
    "def get_possible_key_lengths(text, possible_keys_amount=3):\n",
    "    distances = get_distances(text)\n",
    "    gcds = gcd_list(distances)\n",
    "    return count_occurencies(gcds)[:possible_keys_amount]\n",
    "\n",
    "\n",
    "def analyse_key_lengths(text, key_lengths, freqs_dict, alphabet):\n",
    "    most_frequent = sorted(freqs_dict.items(), key = lambda x : x[1], reverse = True)[0][0]\n",
    "    key_occurencies_sum = sum([i[1] for i in key_lengths])\n",
    "    chi = {}\n",
    "    \n",
    "    for length in key_lengths:\n",
    "        splitted = split_text(text, length[0])\n",
    "        for text_part in splitted:\n",
    "            occs = count_occurencies(text_part, True)\n",
    "            shift = alphabet.index(occs[0][0]) - alphabet.index(most_frequent)\n",
    "            shifted_alphabet = shift_alphabet(alphabet, shift)\n",
    "            chi_value = 0.\n",
    "            for occ in occs:\n",
    "                real_probability = freqs_dict[substitute(occ[0], alphabet, shifted_alphabet)]\n",
    "                chi_value += (occ[1] - real_probability) ** 2 / real_probability\n",
    "        chi[length[0]] = chi_value / length[1] * key_occurencies_sum / length[0]\n",
    "                \n",
    "    return sorted(chi.items(),key=lambda x: x[1]), most_frequent\n",
    "                    \n",
    "\n",
    "def restore_key(text, key_length, alphabet, most_frequent):\n",
    "    splitted_text = split_text(text, key_length)\n",
    "    key = ''\n",
    "    for i in range(key_length):\n",
    "        occurencies = count_occurencies(splitted_text[i], True)\n",
    "        shift = alphabet.index(occurencies[0][0]) - alphabet.index(most_frequent)\n",
    "        key += alphabet[shift]\n",
    "    \n",
    "    return key"
   ]
  },
  {
   "cell_type": "code",
   "execution_count": 283,
   "metadata": {},
   "outputs": [],
   "source": [
    "def kasiski(text, alphabet):\n",
    "    key_lengths = get_possible_key_lengths(text)\n",
    "    key_length, most_frequent = analyse_key_lengths(text, key_lengths, ALPHABET_FREQS_EN, alphabet)\n",
    "    print(key_lengths)\n",
    "    print(key_length)\n",
    "    print()\n",
    "    key = restore_key(text, key_length[0][0], alphabet, most_frequent)\n",
    "    \n",
    "    return key, vigenere_decrypt(text, key, alphabet)"
   ]
  },
  {
   "cell_type": "markdown",
   "metadata": {},
   "source": [
    "## Evaluate Kasiski"
   ]
  },
  {
   "cell_type": "code",
   "execution_count": 291,
   "metadata": {},
   "outputs": [
    {
     "name": "stdout",
     "output_type": "stream",
     "text": [
      "[(1, 29159), (11, 10239), (2, 8205)]\n",
      "[(11, 7.036222870425695), (1, 11.832482939954104), (2, 19.91249000870155)]\n",
      "\n",
      "fdvvdsfxdwq\n",
      "Succeed : True \n",
      "\n",
      "New had happen unable uneasy. Drawings can followed improved out sociable not. Earnestly so do instantly pretended. See general few civilly amiable pleased account carried. Excellence projecting is devonshire dispatched remarkably on estimating. Side in so life past. Continue indulged speaking the was out horrible for domestic position. Seeing rather her you not esteem men settle genius excuse. Deal say over you age from. Comparison new ham melancholy son themselves. Arrived compass prepare an on as. Reasonable particular on my it in sympathize. Size now easy eat hand how. Unwilling he departure elsewhere dejection at. Heart large seems may purse means few blind. Exquisite newspaper attending on certainty oh suspicion of. He less do quit evil is. Add matter family active mutual put wishes happen. Up branch to easily missed by do. Admiration considered acceptance too led one melancholy expression. Are will took form the nor true. Winding enjoyed minuter her letters evident use eat colonel. He attacks observe mr cottage inquiry am examine gravity. Are dear but near left was. Year kept on over so as this of. She steepest doubtful betrayed formerly him. Active one called uneasy our seeing see cousin tastes its. Ye am it formed indeed agreed relied piqued. Village did removed enjoyed explain nor ham saw calling talking. Securing as informed declared or margaret. Joy horrible moreover man feelings own shy. Request norland neither mistake for yet. Between the for morning assured country believe. On even feet time have an no at. Relation so in confined smallest children unpacked delicate. Why sir end believe uncivil respect. Always get adieus nature day course for common. My little garret repair to desire he esteem. Now led tedious shy lasting females off. Dashwood marianne in of entrance be on wondered possible building. Wondered sociable he carriage in speedily margaret. Up devonshire of he thoroughly insensible alteration. An mr settling occasion insisted distance ladyship so. Not attention say frankness intention out dashwoods now curiosity. Stronger ecstatic as no judgment daughter speedily thoughts. Worse downs nor might she court did nay forth these. Imagine was you removal raising gravity. Unsatiable understood or expression dissimilar so sufficient. Its party every heard and event gay. Advice he indeed things adieus in number so uneasy. To many four fact in he fail. My hung it quit next do of. It fifteen charmed by private savings it mr. Favourable cultivated alteration entreaties yet met sympathize. Furniture forfeited sir objection put cordially continued sportsmen. Consulted perpetual of pronounce me delivered. Too months nay end change relied who beauty wishes matter. Shew of john real park so rest we on. Ignorant dwelling occasion ham for thoughts overcame off her consider. Polite it elinor is depend. His not get talked effect worthy barton. Household shameless incommode at no objection behaviour. Especially do at he possession insensible sympathize boisterous it. Songs he on an widen me event truth. Certain law age brother sending amongst why covered. \n"
     ]
    }
   ],
   "source": [
    "key, decrypted = kasiski(vigenere_encrypt(text, 'fdvvdsfxdwq', ALPHABET_EN), ALPHABET_EN)\n",
    "print(key)\n",
    "print('Succeed : {} \\n'.format(decrypted == text))\n",
    "\n",
    "print(restore_text(text_unprocessed_en, decrypted, ALPHABET_EN))"
   ]
  }
 ],
 "metadata": {
  "kernelspec": {
   "display_name": "Python 3",
   "language": "python",
   "name": "python3"
  },
  "language_info": {
   "codemirror_mode": {
    "name": "ipython",
    "version": 3
   },
   "file_extension": ".py",
   "mimetype": "text/x-python",
   "name": "python",
   "nbconvert_exporter": "python",
   "pygments_lexer": "ipython3",
   "version": "3.6.6"
  }
 },
 "nbformat": 4,
 "nbformat_minor": 1
}
