{
 "cells": [
  {
   "cell_type": "markdown",
   "metadata": {
    "collapsed": true
   },
   "source": [
    "# Лабораторная работа №5. Метод Монте Карло для решения систем линейных алгебраических уравнений\n",
    "\n",
    "## Ширяева Ольга, 4 курс, 3 группа\n",
    "\n",
    "## Вариант 12"
   ]
  },
  {
   "cell_type": "code",
   "execution_count": 25,
   "metadata": {},
   "outputs": [],
   "source": [
    "import numpy as np\n",
    "from random import random\n",
    "import matplotlib.pyplot as plt\n",
    "\n",
    "plt.figure(figsize=(10, 8))\n",
    "\n",
    "%matplotlib inline\n",
    "\n",
    "# ax = f\n",
    "a_real = np.array(\n",
    "    [\n",
    "     [0.5, 0.2, 0],\n",
    "     [0.2, 0.8, 0.1],\n",
    "     [0.8, -0.4, 0.6]\n",
    "    ]\n",
    ")\n",
    "\n",
    "# x = ax + f\n",
    "f  = np.array([3., -2., 5.])\n",
    "\n",
    "a = np.array(\n",
    "    [\n",
    "     [0.5, -0.2, 0],\n",
    "     [-0.2, 0.2, -0.1],\n",
    "     [-0.8, 0.4, 0.4]\n",
    "    ]\n",
    ")"
   ]
  },
  {
   "cell_type": "code",
   "execution_count": 12,
   "metadata": {},
   "outputs": [
    {
     "name": "stdout",
     "output_type": "stream",
     "text": [
      "[7.506314609595764, -3.8069252872529775, -4.580041322480057]\n"
     ]
    }
   ],
   "source": [
    "def solve(m, N):\n",
    "    x = []\n",
    "    n = 3\n",
    "    # N - length of Markov's chain\n",
    "    # m - number of Markov's implementations\n",
    "    \n",
    "    h = np.zeros((n, n))\n",
    "    for i in range(n):\n",
    "            h[i][i] = 1\n",
    "\n",
    "    # вектор начальных вероятностей\n",
    "    pi = []\n",
    "\n",
    "    # матрица переходнах состояний цепи Маркова \n",
    "    p = []\n",
    "\n",
    "    # веса состояний цепи Маркова \n",
    "    Q = np.zeros((n, N + 1))    \n",
    "\n",
    "    # Random\n",
    "    ksi = np.zeros((n, m))\n",
    "    aplha = 0\n",
    "\n",
    "    for i in range(n):\n",
    "        pi.append(1.0 / n)\n",
    "        p.append([])\n",
    "        for j in range(n):\n",
    "            p[i].append(1.0 / n)\n",
    "\n",
    "    def prob_intervals(vector): \n",
    "        n = len(vector)\n",
    "        result = []\n",
    "        sum = 0\n",
    "        result.append(0)\n",
    "        for i in range (1, n + 1):\n",
    "            result.append(sum + vector[i - 1])\n",
    "            sum = result[i]\n",
    "        return result\n",
    "\n",
    "    def get_state(alpha, intervals): # этой функцией мы находим какое состояние будет реализоваться\n",
    "        for i in range(1, len(intervals)):\n",
    "            if( alpha < intervals[i]):\n",
    "                return i - 1\n",
    "\n",
    "    # Markov chain \n",
    "    i = []\n",
    "\n",
    "    # modelling m chains        \n",
    "    for j in range(m):\n",
    "        alpha = random()\n",
    "        intervals = prob_intervals(pi)\n",
    "        state = get_state(alpha, intervals)\n",
    "        i.append(state)\n",
    "\n",
    "        for k in range(1, N + 1):\n",
    "            alpha = random()\n",
    "            i.append(get_state(alpha, intervals))\n",
    "\n",
    "        for o in range(n):\n",
    "            Q[o][0] = h[o][i[0]] / pi[i[0]] if pi[i[0]] > 0 else 0\n",
    "\n",
    "        for k in range(1, N + 1):\n",
    "            for o in range(n):\n",
    "                Q[o][k] = Q[o][k - 1] * a[i[k - 1]][i[k]] / p[i[k - 1]][i[k]] if p[i[k - 1]][i[k]] > 0 else 0\n",
    "\n",
    "        for k in range(N + 1):\n",
    "            for o in range(n):\n",
    "                ksi[o][j] = ksi[o][j] + Q[o][k] * f[i[k]]\n",
    "        i = []\n",
    "\n",
    "    for _ in range(n):\n",
    "        x.append(sum(ksi[_]) / m)\n",
    "    print(x)\n",
    "    return x\n",
    "x = solve(5000, 1000)\n"
   ]
  },
  {
   "cell_type": "code",
   "execution_count": 13,
   "metadata": {},
   "outputs": [
    {
     "name": "stdout",
     "output_type": "stream",
     "text": [
      "[ 7.53968254 -3.84920635 -4.28571429]\n"
     ]
    }
   ],
   "source": [
    "true_answer = np.linalg.solve(a_real, f)\n",
    "print(true_answer)"
   ]
  },
  {
   "cell_type": "code",
   "execution_count": 23,
   "metadata": {},
   "outputs": [
    {
     "name": "stdout",
     "output_type": "stream",
     "text": [
      "0.08952951152950078\n"
     ]
    }
   ],
   "source": [
    "def mse(x, y):\n",
    "    assert len(x) == len(y)\n",
    "    return sum([(x[i] - y[i]) ** 2  for i in range(len(x))])\n",
    "\n",
    "error = mse(x, true_answer)\n",
    "print(error)"
   ]
  },
  {
   "cell_type": "code",
   "execution_count": 33,
   "metadata": {},
   "outputs": [],
   "source": [
    "def plot(x, y, x_label):\n",
    "    plt.plot(x, y, label='actual')\n",
    "    plt.xscale('log')\n",
    "    plt.xlabel(x_label)\n",
    "    plt.ylabel('MSE')\n",
    "    plt.legend()\n",
    "    plt.show()"
   ]
  },
  {
   "cell_type": "code",
   "execution_count": 38,
   "metadata": {},
   "outputs": [
    {
     "name": "stdout",
     "output_type": "stream",
     "text": [
      "[7.62510416544303, -3.7530924476156042, -5.108173094106347]\n",
      "[7.955357696854222, -3.930663202483311, -3.8882839529468]\n",
      "[7.149807459101507, -3.7253026784995114, -4.236914422037169]\n",
      "[7.381937717498238, -3.91206596988233, -3.821669174333479]\n",
      "[7.521593524764255, -3.8390973820384846, -4.252548020879]\n",
      "[7.704934765680709, -3.795350145343672, -3.8265033585844597]\n",
      "[7.982460030018918, -3.7520260982696048, -4.01226014658399]\n",
      "[6.5012311226564, -4.039496979934268, -5.442755615848186]\n",
      "[7.296857143747186, -3.765752003927576, -6.410881987756577]\n",
      "[7.513433061007484, -3.9192752533217656, -4.388885151252706]\n",
      "[7.561989697051415, -3.7585961391572105, -5.030542219033165]\n",
      "[8.002737698887453, -3.9243629471161046, -4.10098653510936]\n",
      "[7.29759193494018, -3.5875169012193093, -4.040694873728466]\n",
      "[7.412792276575175, -3.833039864725778, -4.335924168367289]\n"
     ]
    }
   ],
   "source": [
    "N_variations = [1000 * i for i in range(1, 8)]\n",
    "m_variations = [1000 * i for i in range(1, 8)]\n",
    "\n",
    "answers_m_fixed = [solve(5000, i) for i in N_variations]\n",
    "answers_N_fixed = [solve(i, 1000) for i in m_variations]\n",
    "\n",
    "mse_m_fixed = [mse(i, true_answer) for i in answers_m_fixed]\n",
    "mse_N_fixed = [mse(i, true_answer) for i in answers_N_fixed]"
   ]
  },
  {
   "cell_type": "code",
   "execution_count": 40,
   "metadata": {},
   "outputs": [
    {
     "data": {
      "image/png": "[encoded data removed]",
      "text/plain": [
       "<Figure size 432x288 with 1 Axes>"
      ]
     },
     "metadata": {
      "needs_background": "light"
     },
     "output_type": "display_data"
    },
    {
     "data": {
      "image/png": "[encoded data removed]",
      "text/plain": [
       "<Figure size 432x288 with 1 Axes>"
      ]
     },
     "metadata": {
      "needs_background": "light"
     },
     "output_type": "display_data"
    }
   ],
   "source": [
    "plot(N_variations, mse_m_fixed, \"m\")\n",
    "plot(m_variations, mse_N_fixed, \"N\")"
   ]
  },
  {
   "cell_type": "code",
   "execution_count": null,
   "metadata": {},
   "outputs": [],
   "source": []
  }
 ],
 "metadata": {
  "kernelspec": {
   "display_name": "Python 3",
   "language": "python",
   "name": "python3"
  },
  "language_info": {
   "codemirror_mode": {
    "name": "ipython",
    "version": 3
   },
   "file_extension": ".py",
   "mimetype": "text/x-python",
   "name": "python",
   "nbconvert_exporter": "python",
   "pygments_lexer": "ipython3",
   "version": "3.6.6"
  }
 },
 "nbformat": 4,
 "nbformat_minor": 1
}
