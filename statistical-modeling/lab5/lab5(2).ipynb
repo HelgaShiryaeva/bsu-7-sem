{
 "cells": [
  {
   "cell_type": "markdown",
   "metadata": {
    "collapsed": true
   },
   "source": [
    "# Лабораторная работа №4. Метод Монте Карло для решения систем линейных алгебраических уравнений\n",
    "\n",
    "## Код из методички для случая n = 2"
   ]
  },
  {
   "cell_type": "code",
   "execution_count": 20,
   "metadata": {},
   "outputs": [],
   "source": [
    "import numpy as np\n",
    "from random import random\n",
    "\n",
    "# x = ax + f\n",
    "\n",
    "a = np.array(\n",
    "    [\n",
    "     [-0.1, 0.8],\n",
    "     [0.4, -0.1]\n",
    "    ]\n",
    ")\n",
    "\n",
    "\n",
    "f = np.array([0.1, -0.2])\n",
    "n = 2\n",
    "N = 1000\n",
    "m = 1000\n",
    "h1 = np.array([1, 0])\n",
    "h2 = np.array([0, 1])\n",
    "h = h2\n",
    "p = np.full((n, n), 1 / n)\n",
    "pi = [1 / n, 1 / n, 1 / n]"
   ]
  },
  {
   "cell_type": "code",
   "execution_count": 21,
   "metadata": {},
   "outputs": [
    {
     "name": "stdout",
     "output_type": "stream",
     "text": [
      "-0.1948852799841672\n"
     ]
    }
   ],
   "source": [
    "ksi = np.zeros(m)\n",
    "i = np.zeros(N + 1, dtype=int)\n",
    "q = np.zeros(N + 1)\n",
    "x = np.zeros(n) \n",
    "for j in range (0, m):\n",
    "    alpha = random()\n",
    "    if alpha < pi[0]:\n",
    "        i[0] = 0\n",
    "    else:\n",
    "        i[0] = 1\n",
    "           \n",
    "    for k1 in range(1, N + 1):\n",
    "        alpha = random()\n",
    "        if alpha < 0.5:\n",
    "            i[k1] = 0\n",
    "        else:\n",
    "            i[k1] = 1\n",
    "        \n",
    "    if pi[i[0]] > 0:\n",
    "        q[0] = float(h[i[0]] / pi[i[0]])\n",
    "    else:\n",
    "        q[0] = 0\n",
    "            \n",
    "    \n",
    "    for k2 in range (1, N + 1):\n",
    "        if p[i[k2 - 1]][i[k2]] > 0:\n",
    "            q[k2] = float(q[k2 - 1] * a[i[k2 - 1]][i[k2]] / p[i[k2 - 1]][i[k2]])\n",
    "        else:\n",
    "            q[k2] = 0\n",
    "        \n",
    "    for k3 in range (0, N + 1):\n",
    "        ksi[j] += q[k3] * f[i[k3]]\n",
    "    \n",
    "xk = 0\n",
    "for k in range (0, m):\n",
    "    xk += ksi[k]\n",
    "xk /= m\n",
    "print(xk)"
   ]
  }
 ],
 "metadata": {
  "kernelspec": {
   "display_name": "Python 3",
   "language": "python",
   "name": "python3"
  },
  "language_info": {
   "codemirror_mode": {
    "name": "ipython",
    "version": 3
   },
   "file_extension": ".py",
   "mimetype": "text/x-python",
   "name": "python",
   "nbconvert_exporter": "python",
   "pygments_lexer": "ipython3",
   "version": "3.6.6"
  }
 },
 "nbformat": 4,
 "nbformat_minor": 1
}
