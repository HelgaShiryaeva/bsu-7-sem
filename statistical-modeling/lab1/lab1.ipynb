{
 "cells": [
  {
   "cell_type": "markdown",
   "metadata": {
    "collapsed": true
   },
   "source": [
    "# Лабораторная работа 1 \"Моделирование базовых случайных величин (БСВ)\"\n",
    "\n",
    "## Ширяева Ольга, 4 курс, 3 группа\n",
    "\n",
    "## Вариант 12"
   ]
  },
  {
   "cell_type": "markdown",
   "metadata": {},
   "source": [
    "## Задание 1.\n",
    "\n",
    "## Осуществить моделирование n = 1000 реализаций БСВ с помощь мультипликативного конгруэнтного метода (МКМ) с параметрами a 0 =  β = 161 051, M = 2 ^ 31"
   ]
  },
  {
   "cell_type": "code",
   "execution_count": 1,
   "metadata": {},
   "outputs": [],
   "source": [
    "alpha = 161051\n",
    "beta = alpha\n",
    "M = 2 ** 31\n",
    "n = 1000"
   ]
  },
  {
   "cell_type": "code",
   "execution_count": 2,
   "metadata": {},
   "outputs": [],
   "source": [
    "# multiplicative congruential generator (MCG)\n",
    "def mcg(alpha, beta, M, n):\n",
    "    for i in range(n):\n",
    "        alpha = (beta * alpha) % M\n",
    "        yield alpha / M    "
   ]
  },
  {
   "cell_type": "code",
   "execution_count": 3,
   "metadata": {},
   "outputs": [
    {
     "name": "stdout",
     "output_type": "stream",
     "text": [
      "0.07805452914908528\n",
      "0.7599739893339574\n",
      "0.5709562231786549\n",
      "0.07069914555177093\n",
      "0.16809025825932622\n",
      "0.10418292274698615\n",
      "0.7638913248665631\n",
      "0.4617610848508775\n",
      "0.08447631867602468\n",
      "0.9955990924499929\n"
     ]
    }
   ],
   "source": [
    "mcg_seq = list(mcg(alpha, beta, M, n))\n",
    "\n",
    "for i in range(10):  \n",
    "    print(mcg_seq[i])"
   ]
  },
  {
   "cell_type": "markdown",
   "metadata": {},
   "source": [
    "## Задание 2. \n",
    "## Осуществить моделирование n = 1000 реализаций БСВ с помощью метода Макларена-Марсальи (один датчик должен быть мультипликативно конгруэнтный (п. 1), второй – на выбор).  K = 192 – объем вспомогательной таблицы."
   ]
  },
  {
   "cell_type": "code",
   "execution_count": 17,
   "metadata": {},
   "outputs": [],
   "source": [
    "K = 192\n",
    "mcg_list = list(mcg(alpha, beta, M, n + K))\n",
    "random_list = list(mcg(alpha + 2 * K, beta + 2 * K, 2 * M, n + K))"
   ]
  },
  {
   "cell_type": "code",
   "execution_count": 18,
   "metadata": {},
   "outputs": [],
   "source": [
    "# MacLaren-Marsaglia generator (MMG)\n",
    "def mmg(rand1, rand2, k, n):\n",
    "    result = [None] * (n)\n",
    "    result[:k] = rand1[:k]\n",
    "    for i in range(n):\n",
    "        s = int(rand2[i] * k)\n",
    "        yield result[s]\n",
    "        result[s] = rand1[i + k]        "
   ]
  },
  {
   "cell_type": "code",
   "execution_count": 19,
   "metadata": {},
   "outputs": [
    {
     "name": "stdout",
     "output_type": "stream",
     "text": [
      "0.9623539834283292\n0.16787964524701238\n0.15060700615867972\n0.189916857983917\n0.69866788899526\n0.7865513390861452\n0.6450425540097058\n0.4766780664213002\n0.5709562231786549\n0.24340255977585912\n"
     ]
    }
   ],
   "source": [
    "mmg_seq = list(mmg(mcg_list, random_list, K, n)) \n",
    "\n",
    "for i in range(10):  \n",
    "    print(mmg_seq[i])"
   ]
  },
  {
   "cell_type": "markdown",
   "metadata": {},
   "source": [
    "## Проверить точность моделирования обоих датчиков (п. 1 и п. 2) с помощью критерия согласия Колмогорова и chi-2-критерия Пирсона с уровнем значимости ε = 0.05."
   ]
  },
  {
   "cell_type": "code",
   "execution_count": 20,
   "metadata": {},
   "outputs": [],
   "source": [
    "def sort_and_count(n, rand_seq):\n",
    "    seq = sorted(rand_seq, key=float)\n",
    "    size = len(seq)\n",
    "    segment_size = int(size / n)\n",
    "    probability = 1 / n\n",
    "    frequencies = []\n",
    "    j = 0\n",
    "    for i in range(n):\n",
    "        count = 0    \n",
    "        while j < size and seq[j] < (i + 1) / n:\n",
    "                j += 1\n",
    "                count += 1\n",
    "        frequencies.append(count)\n",
    "    return frequencies, segment_size, probability\n",
    "\n",
    "\n",
    "def chi_square(frequencies, size, probability, delta):\n",
    "    chi = 0\n",
    "    for frequency in frequencies:\n",
    "        chi += (frequency - probability * size) ** 2 / (probability * size)\n",
    "    print('chi-square : {}, delta : {}'.format(chi, delta))\n",
    "    \n",
    "    return chi < delta"
   ]
  },
  {
   "cell_type": "markdown",
   "metadata": {},
   "source": [
    "###  Квантили распределения хи-квадрат \n",
    "### https://ru.wikipedia.org/wiki/%D0%9A%D0%B2%D0%B0%D0%BD%D1%82%D0%B8%D0%BB%D0%B8_%D1%80%D0%B0%D1%81%D0%BF%D1%80%D0%B5%D0%B4%D0%B5%D0%BB%D0%B5%D0%BD%D0%B8%D1%8F_%D1%85%D0%B8-%D0%BA%D0%B2%D0%B0%D0%B4%D1%80%D0%B0%D1%82"
   ]
  },
  {
   "cell_type": "code",
   "execution_count": 21,
   "metadata": {},
   "outputs": [
    {
     "name": "stdout",
     "output_type": "stream",
     "text": [
      "frequencies : [111, 102, 104, 104, 97, 103, 110, 88, 95, 86]\nsegment size : 100\nprobability : 0.1\nchi-square : 6.3999999999999995, delta : 16.919\n"
     ]
    },
    {
     "data": {
      "text/plain": [
       "True"
      ]
     },
     "execution_count": 21,
     "metadata": {},
     "output_type": "execute_result"
    }
   ],
   "source": [
    "delta_10_005 = 16.919\n",
    "delta_40_005 = 54.572\n",
    "epsilon = 0.05\n",
    "k = 10\n",
    "\n",
    "frequencies, segment_size, probability = sort_and_count(k, mmg_seq)\n",
    "\n",
    "print('frequencies : {}'.format(frequencies))\n",
    "print('segment size : {}'.format(segment_size))\n",
    "print('probability : {}'.format(probability))\n",
    "\n",
    "chi_square(frequencies, len(mmg_seq), probability, delta_10_005)"
   ]
  },
  {
   "cell_type": "code",
   "execution_count": 22,
   "metadata": {},
   "outputs": [
    {
     "name": "stdout",
     "output_type": "stream",
     "text": [
      "frequencies : [110, 103, 104, 106, 98, 95, 119, 89, 95, 81]\nsegment size : 100\nprobability : 0.1\nchi-square : 10.58, delta : 16.919\n"
     ]
    },
    {
     "data": {
      "text/plain": [
       "True"
      ]
     },
     "execution_count": 22,
     "metadata": {},
     "output_type": "execute_result"
    }
   ],
   "source": [
    "frequencies, segment_size, probability = sort_and_count(k, mcg_seq)\n",
    "\n",
    "print('frequencies : {}'.format(frequencies))\n",
    "print('segment size : {}'.format(segment_size))\n",
    "print('probability : {}'.format(probability))\n",
    "\n",
    "chi_square(frequencies, len(mcg_seq), probability, delta_10_005)"
   ]
  },
  {
   "cell_type": "markdown",
   "metadata": {},
   "source": [
    "### Критерий согласия Колмогорова\n",
    "\n",
    "### https://arhiuch.ru/lab11.html"
   ]
  },
  {
   "cell_type": "code",
   "execution_count": 10,
   "metadata": {},
   "outputs": [],
   "source": [
    "import numpy as np\n",
    "\n",
    "\n",
    "def kolmogorov(rand_seq):\n",
    "    delta = 1.358\n",
    "    \n",
    "    n = len(rand_seq)\n",
    "    empirical = sorted(rand_seq, key=float)\n",
    "    theoretical = [float(i / n) for i in range(n)]\n",
    "    difference = 0.\n",
    "    \n",
    "    for i, value in enumerate(empirical):\n",
    "        difference = max(difference, abs(value - theoretical[i]))\n",
    "       \n",
    "    value = difference * np.sqrt(n)\n",
    "    print('kolmogorov : {}, delta : {}'.format(value, delta))\n",
    "    \n",
    "    return value < delta    "
   ]
  },
  {
   "cell_type": "code",
   "execution_count": 11,
   "metadata": {},
   "outputs": [
    {
     "name": "stdout",
     "output_type": "stream",
     "text": [
      "kolmogorov : 1.3324792908737209, delta : 1.358\n"
     ]
    },
    {
     "data": {
      "text/plain": [
       "True"
      ]
     },
     "execution_count": 11,
     "metadata": {},
     "output_type": "execute_result"
    }
   ],
   "source": [
    "kolmogorov(mcg_seq)"
   ]
  },
  {
   "cell_type": "code",
   "execution_count": 12,
   "metadata": {},
   "outputs": [
    {
     "name": "stdout",
     "output_type": "stream",
     "text": [
      "kolmogorov : 1.1743654078653019, delta : 1.358\n"
     ]
    },
    {
     "data": {
      "text/plain": [
       "True"
      ]
     },
     "execution_count": 12,
     "metadata": {},
     "output_type": "execute_result"
    }
   ],
   "source": [
    "kolmogorov(mmg_seq)"
   ]
  }
 ],
 "metadata": {
  "kernelspec": {
   "display_name": "Python 3",
   "language": "python",
   "name": "python3"
  },
  "language_info": {
   "codemirror_mode": {
    "name": "ipython",
    "version": 3
   },
   "file_extension": ".py",
   "mimetype": "text/x-python",
   "name": "python",
   "nbconvert_exporter": "python",
   "pygments_lexer": "ipython3",
   "version": "3.6.6"
  }
 },
 "nbformat": 4,
 "nbformat_minor": 1
}
