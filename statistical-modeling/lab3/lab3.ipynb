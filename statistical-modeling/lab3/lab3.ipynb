{
 "cells": [
  {
   "cell_type": "markdown",
   "metadata": {
    "collapsed": true
   },
   "source": [
    "# Лабораторная работа №3. Моделирование непрерывных случайных величин (НСВ)\n",
    "\n",
    "## Ширяева Ольга, 4 курс, 3 группа\n",
    "\n",
    "## Вариант 12"
   ]
  },
  {
   "cell_type": "markdown",
   "metadata": {},
   "source": [
    "# Задание 1.\n",
    "\n",
    "Осуществить моделирование n = 10000 реализаций случайной величины из нормального закона распределения N(m, s2) с заданными параметрами. Для моделирования воспользоваться алгоритмом, основанным на ЦПТ; (в качестве количества используемых слагаемых можно взять N = 48, или 192, но должна быть возможность быстро изменить данный параметр). Вычислить несмещенные оценки математического ожидания и дисперсии, сравнить их с истинными значениями.\n",
    "\n",
    "### m = -1, s2 = 4"
   ]
  },
  {
   "cell_type": "code",
   "execution_count": 385,
   "metadata": {},
   "outputs": [],
   "source": [
    "n = 10000\n",
    "m = -1\n",
    "s = 2"
   ]
  },
  {
   "cell_type": "code",
   "execution_count": 386,
   "metadata": {},
   "outputs": [],
   "source": [
    "from random import random\n",
    "N = 48\n",
    "def get_next_standard_gauss():\n",
    "    return (sum([random() for _ in range(N)])  - N/2) / (N ** 0.5 * (1 / 12) ** 0.5)\n",
    "\n",
    "\n",
    "def get_next_gauss(m, s):\n",
    "    return m + s * get_next_standard_gauss()\n",
    "\n",
    "\n",
    "def gauss(m, s, n):\n",
    "    for _ in range(n):\n",
    "        yield get_next_gauss(m, s)"
   ]
  },
  {
   "cell_type": "code",
   "execution_count": 387,
   "metadata": {},
   "outputs": [
    {
     "name": "stdout",
     "output_type": "stream",
     "text": [
      "-3.84064150842794\n",
      "1.2427344752742937\n",
      "-0.7283595276257486\n",
      "-0.6788716300882989\n",
      "-1.4944079352590478\n",
      "2.1770622430987108\n",
      "-3.977808775454893\n",
      "-1.2903039595785692\n",
      "1.6733223188519486\n",
      "-0.4911544165568137\n"
     ]
    }
   ],
   "source": [
    "gauss_seq = list(gauss(m, s, n))\n",
    "\n",
    "for i in range(10):\n",
    "    print(gauss_seq[i])"
   ]
  },
  {
   "cell_type": "code",
   "execution_count": 388,
   "metadata": {},
   "outputs": [],
   "source": [
    "def expectation(seq):\n",
    "    sum = 0.\n",
    "    for value in seq:\n",
    "        sum += value\n",
    "        \n",
    "    return sum / len(seq)\n",
    "\n",
    "\n",
    "def variance(seq, exp):\n",
    "    var = 0.\n",
    "    for value in seq:\n",
    "        var += (value - exp) ** 2\n",
    "    \n",
    "    return var / len(seq)"
   ]
  },
  {
   "cell_type": "code",
   "execution_count": 389,
   "metadata": {},
   "outputs": [],
   "source": [
    "gauss_exp = expectation(gauss_seq)"
   ]
  },
  {
   "cell_type": "code",
   "execution_count": 390,
   "metadata": {},
   "outputs": [
    {
     "name": "stdout",
     "output_type": "stream",
     "text": [
      "Gaussian\n",
      "Theoretic : E = -1, D = 4\n",
      "Actual :    E = -1.000228423961997, D = 4.017820813518201\n"
     ]
    }
   ],
   "source": [
    "print('Gaussian')\n",
    "print('Theoretic : E = {}, D = {}'.format(m, s ** 2))\n",
    "print('Actual :    E = {}, D = {}'.format(gauss_exp, variance(gauss_seq, gauss_exp)))"
   ]
  },
  {
   "cell_type": "markdown",
   "metadata": {},
   "source": [
    "# Задание 2.\n",
    "\n",
    "Смоделировать n = 10000 случайных величин из заданных абсолютно непрерывных распределений. Вычислить несмещенные оценки математического ожидания и дисперсии, сравнить их с истинными значениями (если это возможно). Если математического ожидания не существует, то вычислить выборочное значение медианы и сравнить его с теоретическим.\n",
    "\n",
    "### 12) Коши C(a,b), a = -1, b = 1, Логистическое LG(a,b), a = 2, b = 3\n",
    "\n",
    "\n",
    "### Коши\n",
    "\n",
    "#### http://help.prognoz.com/ru/mergedProjects/Lib/05_statistics/distribution/lib_cauchydistribution.htm\n",
    "### https://ru.wikipedia.org/wiki/%D0%A0%D0%B0%D1%81%D0%BF%D1%80%D0%B5%D0%B4%D0%B5%D0%BB%D0%B5%D0%BD%D0%B8%D0%B5_%D0%9A%D0%BE%D1%88%D0%B8\n",
    "\n",
    "\n",
    "### Логистическое\n",
    "\n",
    "#### https://ru.wikipedia.org/wiki/%D0%9B%D0%BE%D0%B3%D0%B8%D1%81%D1%82%D0%B8%D1%87%D0%B5%D1%81%D0%BA%D0%BE%D0%B5_%D1%80%D0%B0%D1%81%D0%BF%D1%80%D0%B5%D0%B4%D0%B5%D0%BB%D0%B5%D0%BD%D0%B8%D0%B5\n",
    "\n",
    "#### http://help.prognoz.com/ru/mergedProjects/Lib/05_statistics/distribution/lib_logisticdistribution.htm"
   ]
  },
  {
   "cell_type": "code",
   "execution_count": 391,
   "metadata": {},
   "outputs": [],
   "source": [
    "a_cauchy = -1\n",
    "b_cauchy = 1\n",
    "\n",
    "a_log = 2\n",
    "b_log = 3"
   ]
  },
  {
   "cell_type": "code",
   "execution_count": 392,
   "metadata": {},
   "outputs": [],
   "source": [
    "from math import tan, pi, atan, exp, erf, sqrt\n",
    "\n",
    "def cauchy(a, b, n):\n",
    "    for i in range(n):\n",
    "        yield a + b * tan (pi * (random() - 0.5))"
   ]
  },
  {
   "cell_type": "code",
   "execution_count": 393,
   "metadata": {},
   "outputs": [
    {
     "name": "stdout",
     "output_type": "stream",
     "text": [
      "-0.7987291133001733\n",
      "4.664583278330684\n",
      "-8.999324460168982\n",
      "-1.9796211023583372\n",
      "-4.81562278256261\n",
      "-1.43741681360927\n",
      "-0.5809401686038005\n",
      "-0.6053330242116257\n",
      "-4.200960282671815\n",
      "4.891494086213687\n"
     ]
    }
   ],
   "source": [
    "cauchy_seq = list(cauchy(a_cauchy, b_cauchy, n))\n",
    "\n",
    "for i in range(10):\n",
    "    print(cauchy_seq[i])"
   ]
  },
  {
   "cell_type": "code",
   "execution_count": 394,
   "metadata": {},
   "outputs": [
    {
     "name": "stdout",
     "output_type": "stream",
     "text": [
      "Cauchy\n",
      "Median : Theory : -1, Actual : -0.9883896255551141\n"
     ]
    }
   ],
   "source": [
    "sorted_seq = sorted(cauchy_seq)\n",
    "median = (sorted_seq[int(n / 2) - 1] + sorted_seq[int(n / 2)]) / 2\n",
    "\n",
    "print('Cauchy')\n",
    "print('Median : Theory : {}, Actual : {}'.format(a_cauchy, median))"
   ]
  },
  {
   "cell_type": "code",
   "execution_count": 395,
   "metadata": {},
   "outputs": [],
   "source": [
    "from numpy import log\n",
    "\n",
    "def logistic(a, b, n):\n",
    "    for i in range(n):\n",
    "        x = random()\n",
    "        yield a + b * log(x / (1 - x))"
   ]
  },
  {
   "cell_type": "code",
   "execution_count": 396,
   "metadata": {},
   "outputs": [
    {
     "name": "stdout",
     "output_type": "stream",
     "text": [
      "-3.2726367873174986\n",
      "3.3308586443248296\n",
      "2.229116653177538\n",
      "-1.7786693417466806\n",
      "0.607818426650703\n",
      "-5.759586677379458\n",
      "-0.16568020448603882\n",
      "1.718270735232413\n",
      "3.8555251058266498\n",
      "8.056719708252226\n"
     ]
    }
   ],
   "source": [
    "logistic_seq = list(logistic(a_log, b_log, n))\n",
    "\n",
    "for i in range(10):\n",
    "    print(logistic_seq[i])"
   ]
  },
  {
   "cell_type": "code",
   "execution_count": 397,
   "metadata": {},
   "outputs": [],
   "source": [
    "log_exp = expectation(logistic_seq)"
   ]
  },
  {
   "cell_type": "code",
   "execution_count": 398,
   "metadata": {},
   "outputs": [
    {
     "name": "stdout",
     "output_type": "stream",
     "text": [
      "Logistic\n",
      "Theoretic : E = 2, D = 29.608813203268074\n",
      "Actual :    E = 2.017361894495083, D = 29.401747268462994\n"
     ]
    }
   ],
   "source": [
    "print('Logistic')\n",
    "print('Theoretic : E = {}, D = {}'.format(a_log, pi ** 2 * b_log ** 2 / 3))\n",
    "print('Actual :    E = {}, D = {}'.format(log_exp, variance(logistic_seq, log_exp)))"
   ]
  },
  {
   "cell_type": "code",
   "execution_count": 399,
   "metadata": {},
   "outputs": [],
   "source": [
    "def box_muller_normal(n):\n",
    "    for i in range(int(n / 2)):\n",
    "        x = random() * 2 - 1\n",
    "        y = random() * 2 - 1\n",
    "        s = x ** 2 + y ** 2\n",
    "    \n",
    "        while s > 1 or s == 0:\n",
    "            x = random() * 2 - 1\n",
    "            y = random() * 2 - 1\n",
    "            s = x ** 2 + y ** 2\n",
    "    \n",
    "        yield x *( -2 * log(s) / s) ** 0.5\n",
    "        yield y *( -2 * log(s) / s) ** 0.5"
   ]
  },
  {
   "cell_type": "code",
   "execution_count": 400,
   "metadata": {},
   "outputs": [
    {
     "name": "stdout",
     "output_type": "stream",
     "text": [
      "0.6810822449063294\n",
      "-0.2861250712762326\n",
      "-0.9583866549414444\n",
      "-1.5663070467585003\n",
      "-0.7529955753456572\n",
      "-1.7243390366296185\n",
      "1.3633193767137166\n",
      "-0.7730832546072045\n",
      "-0.8220412013017753\n",
      "0.507430662562422\n",
      "-0.30663354978618423\n",
      "1.1846918066017151\n",
      "-0.7112209137558705\n",
      "-0.23614916653032705\n",
      "-1.7231596779365024\n",
      "-0.5288743450242509\n",
      "1.3428443943146913\n",
      "-0.32236154017469665\n",
      "-1.02285487480021\n",
      "0.49370320084094976\n"
     ]
    }
   ],
   "source": [
    "normal_seq = list(box_muller_normal(n))\n",
    "\n",
    "for i in range(20):\n",
    "    print(normal_seq[i])"
   ]
  },
  {
   "cell_type": "code",
   "execution_count": 401,
   "metadata": {},
   "outputs": [],
   "source": [
    "def correlation(seq1, seq2):\n",
    "    exp1 = expectation(seq1)\n",
    "    exp2 = expectation(seq2)\n",
    "    var1 = variance(seq1, exp1)\n",
    "    var2 = variance(seq2, exp2)\n",
    "    \n",
    "    corr = 0.\n",
    "    for i in range(len(seq1)):\n",
    "        corr += (seq1[i] - exp1) * (seq2[i] - exp2)\n",
    "\n",
    "    return corr / (var1 * var2) ** 0.5 / len(seq1)"
   ]
  },
  {
   "cell_type": "code",
   "execution_count": 402,
   "metadata": {},
   "outputs": [
    {
     "name": "stdout",
     "output_type": "stream",
     "text": [
      "Correlation between even and odd values : -0.009938355477888352\n"
     ]
    }
   ],
   "source": [
    "seq1 = [normal_seq[i] for i in range(0, len(normal_seq), 2)]\n",
    "seq2 = [normal_seq[i] for i in range(1, len(normal_seq), 2)]\n",
    "\n",
    "\n",
    "corr = correlation(seq1, seq2)\n",
    "\n",
    "print('Correlation between even and odd values : {}'.format(corr))"
   ]
  },
  {
   "cell_type": "code",
   "execution_count": 403,
   "metadata": {},
   "outputs": [],
   "source": [
    "def sort_and_count(n, rand_seq, prob_function):\n",
    "    seq = sorted(rand_seq, key=float)\n",
    "    size = len(seq)\n",
    "    segment_size = int(size / n)\n",
    "    probabilities = []\n",
    "    frequencies = []\n",
    "    j = 0\n",
    "    for i in range(n):\n",
    "        count = 0\n",
    "        prob_x0 = prob_function(seq[j])\n",
    "        while j < size and seq[j] < (i + 1) / n:\n",
    "                j += 1\n",
    "                count += 1\n",
    "        frequencies.append(count)\n",
    "        probabilities.append(prob_function(seq[j]) - prob_x0)\n",
    "    return frequencies, segment_size, probabilities\n",
    "\n",
    "\n",
    "def chi_square(frequencies, size, probabilities, delta):\n",
    "    chi = 0\n",
    "    for i , frequency in enumerate(frequencies):\n",
    "        chi += (frequency - probabilities[i] * size) ** 2 / (probabilities[i] * size)\n",
    "    print('chi-square : {}, delta : {}'.format(chi, delta))\n",
    "    \n",
    "    return chi < delta"
   ]
  },
  {
   "cell_type": "code",
   "execution_count": 404,
   "metadata": {},
   "outputs": [],
   "source": [
    "def gauss_distribution(x):\n",
    "    return 0.5 * (1 + erf((x - m) / (sqrt(2) * s)))\n",
    "\n",
    "def cauchy_distribution(x):\n",
    "    return 1 / pi * atan((x - a_cauchy) / b_cauchy) + 1 / 2\n",
    "\n",
    "def logistic_distribution(x):\n",
    "    return 1 / (1 + exp(-1 * (x - a_log) / b_log))"
   ]
  },
  {
   "cell_type": "markdown",
   "metadata": {},
   "source": [
    "### Критерий хи-квадрат"
   ]
  },
  {
   "cell_type": "code",
   "execution_count": 405,
   "metadata": {},
   "outputs": [
    {
     "name": "stdout",
     "output_type": "stream",
     "text": [
      "Gaussian chi-square\n",
      "chi-square : 14.173534008026085, delta : 16.919\n"
     ]
    },
    {
     "data": {
      "text/plain": [
       "True"
      ]
     },
     "execution_count": 405,
     "metadata": {},
     "output_type": "execute_result"
    }
   ],
   "source": [
    "delta_10_005 = 16.919\n",
    "delta_40_005 = 54.572\n",
    "epsilon = 0.05\n",
    "k = 10\n",
    "\n",
    "frequencies, segment_size, probabilities = sort_and_count(k, gauss_seq, gauss_distribution)\n",
    "\n",
    "print('Gaussian chi-square')\n",
    "\n",
    "chi_square(frequencies, len(gauss_seq), probabilities, delta_10_005)"
   ]
  },
  {
   "cell_type": "code",
   "execution_count": 406,
   "metadata": {},
   "outputs": [
    {
     "name": "stdout",
     "output_type": "stream",
     "text": [
      "Cauchy chi-square\n",
      "chi-square : 9.7860549266372, delta : 16.919\n"
     ]
    },
    {
     "data": {
      "text/plain": [
       "True"
      ]
     },
     "execution_count": 406,
     "metadata": {},
     "output_type": "execute_result"
    }
   ],
   "source": [
    "frequencies, segment_size, probabilities = sort_and_count(k, cauchy_seq, cauchy_distribution)\n",
    "\n",
    "print('Cauchy chi-square')\n",
    "\n",
    "chi_square(frequencies, len(cauchy_seq), probabilities, delta_10_005)"
   ]
  },
  {
   "cell_type": "code",
   "execution_count": 407,
   "metadata": {},
   "outputs": [
    {
     "name": "stdout",
     "output_type": "stream",
     "text": [
      "Logistic chi-square\n",
      "chi-square : 5.577370149770179, delta : 16.919\n"
     ]
    },
    {
     "data": {
      "text/plain": [
       "True"
      ]
     },
     "execution_count": 407,
     "metadata": {},
     "output_type": "execute_result"
    }
   ],
   "source": [
    "frequencies, segment_size, probabilities = sort_and_count(k, logistic_seq, logistic_distribution)\n",
    "\n",
    "print('Logistic chi-square')\n",
    "\n",
    "chi_square(frequencies, len(logistic_seq), probabilities, delta_10_005)"
   ]
  },
  {
   "cell_type": "markdown",
   "metadata": {},
   "source": [
    "### Критерий Колмогорова"
   ]
  },
  {
   "cell_type": "code",
   "execution_count": 408,
   "metadata": {},
   "outputs": [],
   "source": [
    "import numpy as np\n",
    "\n",
    "def kolmogorov(seq):\n",
    "    delta = 1.358\n",
    "    sorted_seq = sorted(seq, key=float)\n",
    "    n = len(sorted_seq)\n",
    "    test_seq = np.array([float(i + 1) / n for i in range(n)])\n",
    "    max_diff = max(list(map(abs, test_seq - sorted_seq)))\n",
    "    value = sqrt(n) * max_diff\n",
    "    \n",
    "    print('kolmogorov : {}, delta : {}'.format(value, delta))\n",
    "    \n",
    "    return value < delta"
   ]
  },
  {
   "cell_type": "code",
   "execution_count": 409,
   "metadata": {},
   "outputs": [],
   "source": [
    "cauchy_model_dist = [cauchy_distribution(i) for i in sorted(cauchy_seq)]\n",
    "gauss_model_dist = [gauss_distribution(i) for i in sorted(gauss_seq)]\n",
    "logistic_model_dist = [logistic_distribution(i) for i in sorted(logistic_seq)]"
   ]
  },
  {
   "cell_type": "code",
   "execution_count": 410,
   "metadata": {},
   "outputs": [
    {
     "name": "stdout",
     "output_type": "stream",
     "text": [
      "kolmogorov\n",
      "\n",
      "kolmogorov : 0.5486059822043421, delta : 1.358\n",
      "Cauchy : True\n",
      "kolmogorov : 0.7212301638355456, delta : 1.358\n",
      "Gaussian : True\n",
      "kolmogorov : 0.4383872476881462, delta : 1.358\n",
      "Logistic : True\n"
     ]
    }
   ],
   "source": [
    "print('kolmogorov')\n",
    "print()\n",
    "print('Cauchy : {}'.format(kolmogorov(cauchy_model_dist)))\n",
    "print('Gaussian : {}'.format(kolmogorov(gauss_model_dist)))\n",
    "print('Logistic : {}'.format(kolmogorov(logistic_model_dist)))"
   ]
  },
  {
   "cell_type": "code",
   "execution_count": 411,
   "metadata": {},
   "outputs": [],
   "source": [
    "def w_square(seq, delta):\n",
    "    sorted_seq = sorted(seq, key=float)\n",
    "    n = len(sorted_seq)\n",
    "    test_seq = np.array([float(2 * i - 1) / (2 * n) for i in range(n)])\n",
    "    nw2 = 1 / (12 * n)\n",
    "    \n",
    "    nw2 += sum([(seq[i] - test_seq[i]) ** 2 for i in range(n)])\n",
    "    \n",
    "    print('kolmogorov : {}, delta : {}'.format(nw2, delta))\n",
    "    \n",
    "    return nw2 < delta"
   ]
  },
  {
   "cell_type": "markdown",
   "metadata": {},
   "source": [
    "### Критерий омега-квадрат\n",
    "\n",
    "https://arhiuch.ru/lab10.html"
   ]
  },
  {
   "cell_type": "code",
   "execution_count": 412,
   "metadata": {},
   "outputs": [
    {
     "name": "stdout",
     "output_type": "stream",
     "text": [
      "W-square\n",
      "\n",
      "kolmogorov : 0.07258334477688765, delta : 0.461\n",
      "Cauchy : True\n",
      "kolmogorov : 0.08745800317576047, delta : 0.126\n",
      "Gaussian : True\n",
      "kolmogorov : 0.038530436922110424, delta : 0.461\n",
      "Logistic : True\n"
     ]
    }
   ],
   "source": [
    "delta_nw2_normal = 0.126\n",
    "delta_nw2 = 0.461\n",
    "\n",
    "print('W-square')\n",
    "print()\n",
    "print('Cauchy : {}'.format(w_square(cauchy_model_dist, delta_nw2)))\n",
    "print('Gaussian : {}'.format(w_square(gauss_model_dist, delta_nw2_normal)))\n",
    "print('Logistic : {}'.format(w_square(logistic_model_dist, delta_nw2)))"
   ]
  },
  {
   "cell_type": "code",
   "execution_count": null,
   "metadata": {},
   "outputs": [],
   "source": []
  }
 ],
 "metadata": {
  "kernelspec": {
   "display_name": "Python 3",
   "language": "python",
   "name": "python3"
  },
  "language_info": {
   "codemirror_mode": {
    "name": "ipython",
    "version": 3
   },
   "file_extension": ".py",
   "mimetype": "text/x-python",
   "name": "python",
   "nbconvert_exporter": "python",
   "pygments_lexer": "ipython3",
   "version": "3.6.6"
  }
 },
 "nbformat": 4,
 "nbformat_minor": 1
}
