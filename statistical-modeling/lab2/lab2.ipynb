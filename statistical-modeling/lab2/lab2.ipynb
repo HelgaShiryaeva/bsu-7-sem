{
 "cells": [
  {
   "cell_type": "markdown",
   "metadata": {
    "collapsed": true
   },
   "source": [
    "# Лабораторная работа 2 \"Моделирование дискретных случайных величин (ДСВ)\"\n",
    "\n",
    "## Ширяева Ольга, 4 курс, 3 группа\n",
    "\n",
    "## Вариант 12\n",
    "\n",
    "## Бернулли – Bi(1,p), p = 0.9; Геометрическое – G(p), p = 0.7"
   ]
  },
  {
   "cell_type": "markdown",
   "metadata": {},
   "source": [
    "## Задание 1.\n",
    "\n",
    "### Осуществить моделирование n = 1000 реализаций СВ из заданных дискретных распределений. \n",
    "\n",
    "###  Бернулли https://ru.wikipedia.org/wiki/%D0%A0%D0%B0%D1%81%D0%BF%D1%80%D0%B5%D0%B4%D0%B5%D0%BB%D0%B5%D0%BD%D0%B8%D0%B5_%D0%91%D0%B5%D1%80%D0%BD%D1%83%D0%BB%D0%BB%D0%B8\n",
    "\n",
    "### Геометрическое https://ru.wikipedia.org/wiki/%D0%93%D0%B5%D0%BE%D0%BC%D0%B5%D1%82%D1%80%D0%B8%D1%87%D0%B5%D1%81%D0%BA%D0%BE%D0%B5_%D1%80%D0%B0%D1%81%D0%BF%D1%80%D0%B5%D0%B4%D0%B5%D0%BB%D0%B5%D0%BD%D0%B8%D0%B5\n"
   ]
  },
  {
   "cell_type": "code",
   "execution_count": 618,
   "metadata": {},
   "outputs": [],
   "source": [
    "p_bernoulli = 0.9\n",
    "p_geometric = 0.7\n",
    "n = 1000"
   ]
  },
  {
   "cell_type": "code",
   "execution_count": 619,
   "metadata": {},
   "outputs": [],
   "source": [
    "from random import random\n",
    "\n",
    "\n",
    "def bernoulli(p, n):\n",
    "    for i in range(n):\n",
    "        yield 0 if p < random() else 1"
   ]
  },
  {
   "cell_type": "code",
   "execution_count": 620,
   "metadata": {},
   "outputs": [
    {
     "name": "stdout",
     "output_type": "stream",
     "text": [
      "1\n",
      "1\n",
      "1\n",
      "1\n",
      "1\n",
      "0\n",
      "1\n",
      "1\n",
      "0\n",
      "1\n"
     ]
    }
   ],
   "source": [
    "bernoulli_seq = list(bernoulli(p_bernoulli, n))\n",
    "\n",
    "for i in range(10):\n",
    "    print(bernoulli_seq[int(random() * n)])"
   ]
  },
  {
   "cell_type": "code",
   "execution_count": 621,
   "metadata": {},
   "outputs": [],
   "source": [
    "def geometric_v1(p, n):\n",
    "    for i in range(n):\n",
    "        b = list(bernoulli(p, int(n)))\n",
    "        i = 0\n",
    "        while i < len(b):\n",
    "            if b[i] == 1:\n",
    "                break\n",
    "            i += 1\n",
    "        yield i"
   ]
  },
  {
   "cell_type": "code",
   "execution_count": 622,
   "metadata": {},
   "outputs": [
    {
     "name": "stdout",
     "output_type": "stream",
     "text": [
      "0\n",
      "0\n",
      "1\n",
      "2\n",
      "0\n",
      "2\n",
      "0\n",
      "0\n",
      "0\n",
      "1\n"
     ]
    }
   ],
   "source": [
    "geometric_seq_v1 = list(geometric_v1(p_geometric, n))\n",
    "\n",
    "for i in range(10):\n",
    "    print(geometric_seq_v1[int(random() * n)])"
   ]
  },
  {
   "cell_type": "code",
   "execution_count": 623,
   "metadata": {},
   "outputs": [],
   "source": [
    "import math\n",
    "\n",
    "\n",
    "def geometric_v2(p, n):\n",
    "    for i in range(n):\n",
    "        a = random()\n",
    "        x = abs(math.ceil(math.log2(a) / math.log2(1 - p)))\n",
    "        yield x     "
   ]
  },
  {
   "cell_type": "code",
   "execution_count": 624,
   "metadata": {},
   "outputs": [
    {
     "name": "stdout",
     "output_type": "stream",
     "text": [
      "2\n",
      "1\n",
      "2\n",
      "2\n",
      "2\n",
      "1\n",
      "1\n",
      "1\n",
      "1\n",
      "1\n"
     ]
    }
   ],
   "source": [
    "geometric_seq_v2 = list(geometric_v2(p_geometric, n))\n",
    "\n",
    "for i in range(10):\n",
    "    print(geometric_seq_v2[int(random() * n)])"
   ]
  },
  {
   "cell_type": "code",
   "execution_count": 625,
   "metadata": {},
   "outputs": [],
   "source": [
    "def expectation(seq):\n",
    "    sum = 0.\n",
    "    for value in seq:\n",
    "        sum += value\n",
    "        \n",
    "    return sum / len(seq)\n",
    "\n",
    "\n",
    "def variance(seq, exp):\n",
    "    var = 0.\n",
    "    for value in seq:\n",
    "        var += (value - exp) ** 2\n",
    "    \n",
    "    return var / len(seq)"
   ]
  },
  {
   "cell_type": "code",
   "execution_count": 626,
   "metadata": {},
   "outputs": [],
   "source": [
    "bernoulli_expectation = p_bernoulli\n",
    "bernoulli_variance = p_bernoulli * (1 - p_bernoulli)\n",
    "geometric_expectation_v1 = (1 - p_geometric) / p_geometric\n",
    "geometric_expectation_v2 = 1 / p_geometric\n",
    "geometric_variance = (1 - p_geometric) / p_geometric ** 2"
   ]
  },
  {
   "cell_type": "code",
   "execution_count": 627,
   "metadata": {},
   "outputs": [],
   "source": [
    "bernoulli_exp = expectation(bernoulli_seq)\n",
    "bernoulli_var = variance(bernoulli_seq, bernoulli_exp)\n",
    "\n",
    "geometric_exp_v1 = expectation(geometric_seq_v1)\n",
    "geometric_var_v1 = variance(geometric_seq_v1, geometric_exp_v1)\n",
    "\n",
    "\n",
    "geometric_exp_v2 = expectation(geometric_seq_v2)\n",
    "geometric_var_v2 = variance(geometric_seq_v2, geometric_exp_v2)"
   ]
  },
  {
   "cell_type": "code",
   "execution_count": 628,
   "metadata": {},
   "outputs": [
    {
     "name": "stdout",
     "output_type": "stream",
     "text": [
      "Bernoulli\n",
      "Theoretic : E = 0.9, D = 0.08999999999999998\n",
      "Actual :    E = 0.902, D = 0.08839600000000021\n",
      "\n",
      "Geometric Version 1\n",
      "Theoretic : E = 0.42857142857142866, D = 0.6122448979591838\n",
      "Actual :    E = 0.415, D = 0.620775000000009\n",
      "\n",
      "Geometric Version 2\n",
      "Theoretic : E = 1.4285714285714286, D = 0.6122448979591838\n",
      "Actual :    E = 1.432, D = 0.6353760000000054\n"
     ]
    }
   ],
   "source": [
    "print('Bernoulli')\n",
    "print('Theoretic : E = {}, D = {}'.format(bernoulli_expectation, bernoulli_variance))\n",
    "print('Actual :    E = {}, D = {}'.format(bernoulli_exp, bernoulli_var))\n",
    "print()\n",
    "print('Geometric Version 1')\n",
    "print('Theoretic : E = {}, D = {}'.format(geometric_expectation_v1, geometric_variance))\n",
    "print('Actual :    E = {}, D = {}'.format(geometric_exp_v1, geometric_var_v1))\n",
    "print()\n",
    "print('Geometric Version 2')\n",
    "print('Theoretic : E = {}, D = {}'.format(geometric_expectation_v2, geometric_variance))\n",
    "print('Actual :    E = {}, D = {}'.format(geometric_exp_v2, geometric_var_v2))\n"
   ]
  },
  {
   "cell_type": "code",
   "execution_count": 629,
   "metadata": {},
   "outputs": [],
   "source": [
    "def bernoulli_probabilty(x):\n",
    "    if x == 1:\n",
    "        return p_bernoulli\n",
    "    else:\n",
    "        return 1 - p_bernoulli\n",
    "    \n",
    "    \n",
    "def geometric_probability_v1(x):\n",
    "    return (1 - p_geometric) ** x * p_geometric\n",
    "    \n",
    "    \n",
    "def geometric_probability_v2(x):\n",
    "    return (1 - p_geometric) ** (x - 1) * p_geometric    "
   ]
  },
  {
   "cell_type": "code",
   "execution_count": 630,
   "metadata": {},
   "outputs": [],
   "source": [
    "def get_bernoulli_frequencies(seq):\n",
    "    zeroes = 0\n",
    "    ones = 0\n",
    "    \n",
    "    for value in seq:\n",
    "        if value is 0:\n",
    "            zeroes += 1\n",
    "        else:\n",
    "            ones += 1\n",
    "    \n",
    "    return [zeroes, ones]\n",
    "\n",
    "\n",
    "def bernoulli_chi_square(seq):\n",
    "    freqs = get_bernoulli_frequencies(bernoulli_seq)\n",
    "    size = len(seq)\n",
    "    return (freqs[0] - (1 - p_bernoulli) * size) ** 2 / ((1 - p_bernoulli) * size) + (freqs[1] - p_bernoulli * size) ** 2 / (p_bernoulli * size)"
   ]
  },
  {
   "cell_type": "code",
   "execution_count": null,
   "metadata": {},
   "outputs": [],
   "source": [
    "def frequencies(seq, n):\n",
    "    seq = sorted(seq, key=float)\n",
    "    size = len(seq)\n",
    "    frequencies = []\n",
    "    j = 0\n",
    "    for i in range(n):\n",
    "        count = 0    \n",
    "        while j < size and seq[j] == i:\n",
    "                j += 1\n",
    "                count += 1\n",
    "        frequencies.append(count)\n",
    "    return frequencies\n",
    "\n",
    "\n",
    "def discrete_chi_square(seq, prob_function):\n",
    "    chi = 0.\n",
    "    size= len(seq)\n",
    "    geom = sorted(seq)\n",
    "    max = geom[len(geom) - 1]\n",
    "    freqs = frequencies(geom, max)\n",
    "    freqs_size = len(freqs)\n",
    "    for i in range(freqs_size):\n",
    "        value = freqs[i]\n",
    "        probability = prob_function(i)\n",
    "        if i == 0 and value == 0:\n",
    "            continue\n",
    "        chi += (value - probability * size) ** 2 / (probability * size)\n",
    "        \n",
    "    return chi, freqs_size   "
   ]
  },
  {
   "cell_type": "code",
   "execution_count": 632,
   "metadata": {},
   "outputs": [],
   "source": [
    "CHI_SQUARE_DELTA = {\n",
    "    2: 3.841,\n",
    "    3: 5.991,\n",
    "    4: 7.815,\n",
    "    5: 9.488,\n",
    "    6: 11.070,\n",
    "    7: 12.592,\n",
    "    8: 14.067,\n",
    "    9: 15.507,\n",
    "    10: 16.919,\n",
    "    11: 18.307,\n",
    "    12: 19.675,\n",
    "    13: 21.026,\n",
    "    14: 22.362,\n",
    "    15: 23.685,\n",
    "    16: 24.996,\n",
    "    17: 26.296,\n",
    "    18: 27.587,\n",
    "    19: 28.869,\n",
    "    20: 30.144,\n",
    "    21: 31.410,\n",
    "    22: 32.671,\n",
    "    23: 33.924,\n",
    "    24: 35.172,\n",
    "    25: 36.415,\n",
    "    26: 37.652,\n",
    "    27: 38.885,\n",
    "    28: 40.113,\n",
    "    29: 41.337,\n",
    "    30: 42.557\n",
    "}"
   ]
  },
  {
   "cell_type": "code",
   "execution_count": 633,
   "metadata": {},
   "outputs": [
    {
     "name": "stdout",
     "output_type": "stream",
     "text": [
      "Bernoulli chi-square : 0.04444444444444332 < 3,8415\n",
      "Geometric chi-square version 1: 3.652292768959437 < 9.488, k = 4\n",
      "Geometric chi-square version 2: 1.7991128747795404 < 12.592, k = 6\n"
     ]
    }
   ],
   "source": [
    "b_chi = bernoulli_chi_square(bernoulli_seq)\n",
    "g_chi_v1, size_v1 = discrete_chi_square(geometric_seq_v1,geometric_probability_v1)\n",
    "g_chi_v2, size_v2 = discrete_chi_square(geometric_seq_v2,geometric_probability_v2)\n",
    "\n",
    "print('Bernoulli chi-square : {} < 3,8415'.format(b_chi))\n",
    "print('Geometric chi-square version 1: {} < {}, k = {}'.format(g_chi_v1, CHI_SQUARE_DELTA[size_v1], size_v1 - 1))\n",
    "print('Geometric chi-square version 2: {} < {}, k = {}'.format(g_chi_v2, CHI_SQUARE_DELTA[size_v2], size_v2 - 1))"
   ]
  },
  {
   "cell_type": "markdown",
   "metadata": {},
   "source": [
    "## Распределение Пуассона lambda = 4\n",
    "\n",
    "### https://ru.wikipedia.org/wiki/%D0%A0%D0%B0%D1%81%D0%BF%D1%80%D0%B5%D0%B4%D0%B5%D0%BB%D0%B5%D0%BD%D0%B8%D0%B5_%D0%9F%D1%83%D0%B0%D1%81%D1%81%D0%BE%D0%BD%D0%B0"
   ]
  },
  {
   "cell_type": "code",
   "execution_count": 634,
   "metadata": {},
   "outputs": [],
   "source": [
    "poisson_lambda = 4"
   ]
  },
  {
   "cell_type": "code",
   "execution_count": 635,
   "metadata": {},
   "outputs": [],
   "source": [
    "from math import exp\n",
    "\n",
    "def poisson(rate, n):\n",
    "    l = exp(-1 * rate)\n",
    "    \n",
    "    for i in range(n):\n",
    "        p = 1.0\n",
    "        k = -1\n",
    "        while p > l:\n",
    "            p *= random()\n",
    "            k += 1\n",
    "        yield k"
   ]
  },
  {
   "cell_type": "code",
   "execution_count": 636,
   "metadata": {},
   "outputs": [
    {
     "name": "stdout",
     "output_type": "stream",
     "text": [
      "3\n",
      "5\n",
      "7\n",
      "3\n",
      "1\n",
      "1\n",
      "2\n",
      "7\n",
      "3\n",
      "3\n"
     ]
    }
   ],
   "source": [
    "poisson_seq = list(poisson(poisson_lambda, n))\n",
    "\n",
    "for i in range(10):\n",
    "    print(poisson_seq[i])"
   ]
  },
  {
   "cell_type": "markdown",
   "metadata": {},
   "source": [
    "## Биномиальное распределение Bi(m, p) m = 5, p = 0.6\n",
    "\n",
    "### https://ru.wikipedia.org/wiki/%D0%91%D0%B8%D0%BD%D0%BE%D0%BC%D0%B8%D0%B0%D0%BB%D1%8C%D0%BD%D0%BE%D0%B5_%D1%80%D0%B0%D1%81%D0%BF%D1%80%D0%B5%D0%B4%D0%B5%D0%BB%D0%B5%D0%BD%D0%B8%D0%B5"
   ]
  },
  {
   "cell_type": "code",
   "execution_count": 637,
   "metadata": {},
   "outputs": [],
   "source": [
    "m = 5\n",
    "p_binominal = 0.6"
   ]
  },
  {
   "cell_type": "code",
   "execution_count": 638,
   "metadata": {},
   "outputs": [],
   "source": [
    "def binominal(m, p, n):\n",
    "    for i in range(n):\n",
    "        sum = 0\n",
    "        for j in range(m):\n",
    "            sum += list(bernoulli(p, 1))[0]            \n",
    "        yield sum"
   ]
  },
  {
   "cell_type": "code",
   "execution_count": 639,
   "metadata": {},
   "outputs": [
    {
     "name": "stdout",
     "output_type": "stream",
     "text": [
      "4\n",
      "2\n",
      "4\n",
      "4\n",
      "2\n",
      "4\n",
      "2\n",
      "2\n",
      "2\n",
      "0\n"
     ]
    }
   ],
   "source": [
    "binominal_seq = list(binominal(m, p_binominal, n))\n",
    "\n",
    "for i in range(10):\n",
    "    print(binominal_seq[i])"
   ]
  },
  {
   "cell_type": "code",
   "execution_count": 640,
   "metadata": {},
   "outputs": [],
   "source": [
    "poisson_expectation = poisson_lambda\n",
    "poisson_variance = poisson_lambda\n",
    "\n",
    "binominal_expectation = m * p_binominal\n",
    "binominal_variance = m * p_binominal * (1 - p_binominal)\n",
    "\n",
    "poisson_exp = expectation(poisson_seq)\n",
    "poisson_var = variance(poisson_seq, poisson_exp)\n",
    "\n",
    "binominal_exp = expectation(binominal_seq)\n",
    "binominal_var = variance(binominal_seq, binominal_exp)"
   ]
  },
  {
   "cell_type": "code",
   "execution_count": 641,
   "metadata": {},
   "outputs": [
    {
     "name": "stdout",
     "output_type": "stream",
     "text": [
      "Poisson\n",
      "Theoretic : E = 4, D = 4\n",
      "Actual :    E = 3.863, D = 4.016230999999977\n",
      "\n",
      "Binominal\n",
      "Theoretic : E = 3.0, D = 1.2000000000000002\n",
      "Actual :    E = 2.934, D = 1.2396439999999977\n"
     ]
    }
   ],
   "source": [
    "print('Poisson')\n",
    "print('Theoretic : E = {}, D = {}'.format(poisson_expectation, poisson_variance))\n",
    "print('Actual :    E = {}, D = {}'.format(poisson_exp, poisson_var))\n",
    "print()\n",
    "print('Binominal')\n",
    "print('Theoretic : E = {}, D = {}'.format(binominal_expectation, binominal_variance))\n",
    "print('Actual :    E = {}, D = {}'.format(binominal_exp, binominal_var))"
   ]
  },
  {
   "cell_type": "code",
   "execution_count": 642,
   "metadata": {},
   "outputs": [],
   "source": [
    "from math import factorial\n",
    "\n",
    "def C(n, k):\n",
    "    return factorial(n) / (factorial(k) * factorial(n - k))\n",
    "\n",
    "def poisson_probability(x):\n",
    "    return exp(- 1 * poisson_lambda) * poisson_lambda ** x / factorial(x)\n",
    "\n",
    "def binominal_probability(x):\n",
    "    return C(m, x) * p_binominal ** x * (1 - p_binominal) ** (m - x)\n",
    "    "
   ]
  },
  {
   "cell_type": "code",
   "execution_count": 643,
   "metadata": {},
   "outputs": [
    {
     "name": "stdout",
     "output_type": "stream",
     "text": [
      "Bernoulli chi-square : 16.405579141267282 < 21.026, k = 12\n",
      "Binominal chi-square : 5.51874228395061 < 9.488, k = 4\n"
     ]
    }
   ],
   "source": [
    "p_chi, size_p = discrete_chi_square(poisson_seq, poisson_probability)\n",
    "b_chi, size_b = discrete_chi_square(binominal_seq, binominal_probability)\n",
    "\n",
    "print('Bernoulli chi-square : {} < {}, k = {}'.format(p_chi, CHI_SQUARE_DELTA[size_p], size_p - 1))\n",
    "print('Binominal chi-square : {} < {}, k = {}'.format(b_chi, CHI_SQUARE_DELTA[size_b], size_b - 1))"
   ]
  },
  {
   "cell_type": "markdown",
   "metadata": {},
   "source": [
    "## Вычислить несмещенные оценки коэффициентов эксцесса и асимметрии и сравнить с истинными значениями.\n",
    "\n",
    "### Kurtosis https://ru.wikipedia.org/wiki/%D0%9A%D0%BE%D1%8D%D1%84%D1%84%D0%B8%D1%86%D0%B8%D0%B5%D0%BD%D1%82_%D1%8D%D0%BA%D1%81%D1%86%D0%B5%D1%81%D1%81%D0%B0\n",
    "\n",
    "### Skewness https://ru.wikipedia.org/wiki/%D0%9A%D0%BE%D1%8D%D1%84%D1%84%D0%B8%D1%86%D0%B8%D0%B5%D0%BD%D1%82_%D0%B0%D1%81%D0%B8%D0%BC%D0%BC%D0%B5%D1%82%D1%80%D0%B8%D0%B8"
   ]
  },
  {
   "cell_type": "code",
   "execution_count": 644,
   "metadata": {},
   "outputs": [],
   "source": [
    "def moment(seq, exp, rang):\n",
    "    n = len(seq)\n",
    "    m = 0.\n",
    "    for i in range(n):\n",
    "        m += (seq[i] - exp) ** rang\n",
    "    \n",
    "    return m / n"
   ]
  },
  {
   "cell_type": "code",
   "execution_count": 645,
   "metadata": {},
   "outputs": [],
   "source": [
    "def kurtosis(seq, exp):\n",
    "    mu_4 = moment(seq, exp, 4)\n",
    "    sigma_4 = moment(seq, exp, 2) ** 2\n",
    "    \n",
    "    return mu_4 / sigma_4 - 3\n",
    "\n",
    "def skewness(seq, exp):\n",
    "    mu_3 = moment(seq, exp, 3)\n",
    "    sigma_3 = moment(seq, exp, 2) ** (3 / 2)\n",
    "    \n",
    "    return mu_3 / sigma_3"
   ]
  },
  {
   "cell_type": "code",
   "execution_count": 646,
   "metadata": {},
   "outputs": [],
   "source": [
    "bernoulli_kurtosis_th = (6 * p_bernoulli ** 2 - 6 * p_bernoulli + 1) / (p_bernoulli * (1 - p_bernoulli))\n",
    "bernoulli_skewness_th = (1 - 2 * p_bernoulli) / (p_bernoulli * (1 - p_bernoulli)) ** (1 / 2)\n",
    "bernoulli_kurtosis_act = kurtosis(bernoulli_seq, bernoulli_exp)\n",
    "bernoulli_skewness_act = skewness(bernoulli_seq, bernoulli_exp)\n",
    "\n",
    "geometric_kurtosis_th = 6 + p_geometric ** 2 / (1 - p_geometric)\n",
    "geometric_skewness_th = (2 - p_geometric) / (1 - p_geometric) ** (1 / 2)\n",
    "geometric_v1_kurtosis_act = kurtosis(geometric_seq_v1, geometric_exp_v1)\n",
    "geometric_v1_skewness_act = skewness(geometric_seq_v1, geometric_exp_v1)\n",
    "geometric_v2_kurtosis_act = kurtosis(geometric_seq_v2, geometric_exp_v2)\n",
    "geometric_v2_skewness_act = skewness(geometric_seq_v2, geometric_exp_v2)\n",
    "\n",
    "poisson_kurtosis_th = 1 / poisson_lambda\n",
    "poisson_skewness_th = poisson_lambda ** ( -1 / 2)\n",
    "poisson_kurtosis_act = kurtosis(poisson_seq, poisson_exp)\n",
    "poisson_skewness_act = skewness(poisson_seq, poisson_exp)\n",
    "\n",
    "binominal_kurtosis_th = (1 - 6 * p_binominal * (1 - p_binominal)) / (m * p_binominal * (1 - p_binominal))\n",
    "binominal_skewness_th = (1 - 2 * p_binominal) / (m * p_binominal * (1 - p_binominal)) ** (1 / 2)\n",
    "binominal_kurtosis_act = kurtosis(binominal_seq, binominal_exp)\n",
    "binominal_skewness_act = skewness(binominal_seq, binominal_exp)"
   ]
  },
  {
   "cell_type": "code",
   "execution_count": 647,
   "metadata": {},
   "outputs": [
    {
     "name": "stdout",
     "output_type": "stream",
     "text": [
      "Bernoulli\n",
      "Theoretic : Kurtosis = 5.111111111111112, Skewness = -2.666666666666667\n",
      "Actual :    Kurtosis = 5.312729082763942, Skewness = -2.7042058136843004\n",
      "\n",
      "Geometric Version 1\n",
      "Theoretic : Kurtosis = 7.633333333333333, Skewness = 2.3734644158557194\n",
      "Actual :    Kurtosis = 6.287594281112092, Skewness = 2.3485014441691145\n",
      "\n",
      "Geometric Version 2\n",
      "Theoretic : Kurtosis = 7.633333333333333, Skewness = 2.3734644158557194\n",
      "Actual :    Kurtosis = 7.541600100843157, Skewness = 2.4087354620763035\n",
      "\n",
      "Poisson\n",
      "Theoretic : Kurtosis = 0.25, Skewness = 0.5\n",
      "Actual :    Kurtosis = 0.32064864184940767, Skewness = 0.47612932820207254\n",
      "\n",
      "Binominal\n",
      "Theoretic : Kurtosis = -0.3666666666666666, Skewness = -0.1825741858350553\n",
      "Actual :    Kurtosis = -0.40730946551515856, Skewness = -0.19581281295230438\n"
     ]
    }
   ],
   "source": [
    "print('Bernoulli')\n",
    "print('Theoretic : Kurtosis = {}, Skewness = {}'.format(bernoulli_kurtosis_th, bernoulli_skewness_th))\n",
    "print('Actual :    Kurtosis = {}, Skewness = {}'.format(bernoulli_kurtosis_act, bernoulli_skewness_act))\n",
    "print()\n",
    "print('Geometric Version 1')\n",
    "print('Theoretic : Kurtosis = {}, Skewness = {}'.format(geometric_kurtosis_th, geometric_skewness_th))\n",
    "print('Actual :    Kurtosis = {}, Skewness = {}'.format(geometric_v1_kurtosis_act, geometric_v1_skewness_act))\n",
    "print()\n",
    "print('Geometric Version 2')\n",
    "print('Theoretic : Kurtosis = {}, Skewness = {}'.format(geometric_kurtosis_th, geometric_skewness_th))\n",
    "print('Actual :    Kurtosis = {}, Skewness = {}'.format(geometric_v2_kurtosis_act, geometric_v2_skewness_act))\n",
    "print()\n",
    "print('Poisson')\n",
    "print('Theoretic : Kurtosis = {}, Skewness = {}'.format(poisson_kurtosis_th, poisson_skewness_th))\n",
    "print('Actual :    Kurtosis = {}, Skewness = {}'.format(poisson_kurtosis_act, poisson_skewness_act))\n",
    "print()\n",
    "print('Binominal')\n",
    "print('Theoretic : Kurtosis = {}, Skewness = {}'.format(binominal_kurtosis_th, binominal_skewness_th))\n",
    "print('Actual :    Kurtosis = {}, Skewness = {}'.format(binominal_kurtosis_act, binominal_skewness_act))"
   ]
  },
  {
   "cell_type": "code",
   "execution_count": 814,
   "metadata": {},
   "outputs": [
    {
     "data": {
      "image/png": "[encoded data removed]",
      "text/plain": [
       "<Figure size 720x576 with 1 Axes>"
      ]
     },
     "metadata": {
      "needs_background": "light"
     },
     "output_type": "display_data"
    },
    {
     "name": "stdout",
     "output_type": "stream",
     "text": [
      "[98, 902]\n",
      "[100, 900]\n"
     ]
    }
   ],
   "source": [
    "% matplotlib inline\n",
    "\n",
    "import matplotlib.pyplot as plt\n",
    "import numpy as np\n",
    "plt.figure(figsize=[10,8])\n",
    "\n",
    "data_bern = [0 if i < n / 10 else 1 for i in range(n)]\n",
    "\n",
    "plt.hist([bernoulli_seq, data_bern], 2, label=['actual', 'theory'])\n",
    "plt.legend(loc='upper right')\n",
    "plt.title('Bernoulli')\n",
    "plt.show()\n",
    "\n",
    "\n",
    "print(get_bernoulli_frequencies(bernoulli_seq))\n",
    "print(get_bernoulli_frequencies(data_bern))"
   ]
  },
  {
   "cell_type": "code",
   "execution_count": 831,
   "metadata": {},
   "outputs": [],
   "source": [
    "def geometric_th_v1(p, n, max_value):\n",
    "    values = []\n",
    "    for i in range (max_value + 1):\n",
    "        num = int((1 - p_geometric) ** i * p_geometric * n)\n",
    "        for j in range(num):\n",
    "            values.append(i)\n",
    "        \n",
    "    return values  \n",
    "\n",
    "def geometric_th_v2(p, n, max_value):\n",
    "    values = []\n",
    "    for i in range (1, max_value + 1):\n",
    "        num = int((1 - p_geometric) ** (i - 1) * p_geometric * n)\n",
    "        for j in range(num):\n",
    "            values.append(i)\n",
    "        \n",
    "    return values  "
   ]
  },
  {
   "cell_type": "code",
   "execution_count": 832,
   "metadata": {},
   "outputs": [
    {
     "data": {
      "image/png": "[encoded data removed]",
      "text/plain": [
       "<Figure size 720x576 with 1 Axes>"
      ]
     },
     "metadata": {
      "needs_background": "light"
     },
     "output_type": "display_data"
    }
   ],
   "source": [
    "geom_v1 = geometric_th_v1(p_geometric, n, size_v1)\n",
    "\n",
    "plt.figure(figsize=[10,8])\n",
    "plt.hist([geometric_seq_v1, geom_v1], label=['actual', 'theory'])\n",
    "plt.legend(loc='upper right')\n",
    "plt.title('Geometric v1')\n",
    "plt.show()"
   ]
  },
  {
   "cell_type": "code",
   "execution_count": 840,
   "metadata": {},
   "outputs": [
    {
     "data": {
      "image/png": "[encoded data removed]",
      "text/plain": [
       "<Figure size 720x576 with 1 Axes>"
      ]
     },
     "metadata": {
      "needs_background": "light"
     },
     "output_type": "display_data"
    }
   ],
   "source": [
    "geom_v2 = geometric_th_v2(p_geometric, n, size_v2)\n",
    "\n",
    "plt.figure(figsize=[10,8])\n",
    "plt.hist([geometric_seq_v2, geom_v2], label=['actual', 'theory'])\n",
    "plt.legend(loc='upper right')\n",
    "plt.title('Geometric v2')\n",
    "plt.show()"
   ]
  },
  {
   "cell_type": "code",
   "execution_count": 841,
   "metadata": {},
   "outputs": [],
   "source": [
    "def poisson_theory(k):\n",
    "    values = []\n",
    "    for i in range(k):\n",
    "        num = int(poisson_probability(i) * n)\n",
    "        for j in range(num):\n",
    "            values.append(i)\n",
    "    return values"
   ]
  },
  {
   "cell_type": "code",
   "execution_count": 842,
   "metadata": {},
   "outputs": [
    {
     "data": {
      "image/png": "[encoded data removed]",
      "text/plain": [
       "<Figure size 720x576 with 1 Axes>"
      ]
     },
     "metadata": {
      "needs_background": "light"
     },
     "output_type": "display_data"
    }
   ],
   "source": [
    "poisson_th = poisson_theory(max(poisson_seq))\n",
    "\n",
    "plt.figure(figsize=[10,8])\n",
    "plt.hist([poisson_seq, poisson_th], label=['actual', 'theory'])\n",
    "plt.legend(loc='upper right')\n",
    "plt.title('Poisson')\n",
    "plt.show()"
   ]
  },
  {
   "cell_type": "code",
   "execution_count": 843,
   "metadata": {},
   "outputs": [],
   "source": [
    "def binominal_theory(k):\n",
    "    freqs = []\n",
    "    for i in range(k):\n",
    "        num = int(binominal_probability(i) * n)\n",
    "        for j in range(num):\n",
    "            freqs.append(i)\n",
    "    return freqs"
   ]
  },
  {
   "cell_type": "code",
   "execution_count": 844,
   "metadata": {},
   "outputs": [
    {
     "data": {
      "image/png": "[encoded data removed]",
      "text/plain": [
       "<Figure size 720x576 with 1 Axes>"
      ]
     },
     "metadata": {
      "needs_background": "light"
     },
     "output_type": "display_data"
    }
   ],
   "source": [
    "binominal_th = binominal_theory(max(binominal_seq))\n",
    "\n",
    "plt.figure(figsize=[10,8])\n",
    "plt.hist([binominal_seq, binominal_th], label=['actual', 'theory'])\n",
    "plt.legend(loc='upper right')\n",
    "plt.title('Binominal')\n",
    "plt.show()"
   ]
  }
 ],
 "metadata": {
  "kernelspec": {
   "display_name": "Python 3",
   "language": "python",
   "name": "python3"
  },
  "language_info": {
   "codemirror_mode": {
    "name": "ipython",
    "version": 3
   },
   "file_extension": ".py",
   "mimetype": "text/x-python",
   "name": "python",
   "nbconvert_exporter": "python",
   "pygments_lexer": "ipython3",
   "version": "3.6.6"
  }
 },
 "nbformat": 4,
 "nbformat_minor": 1
}
