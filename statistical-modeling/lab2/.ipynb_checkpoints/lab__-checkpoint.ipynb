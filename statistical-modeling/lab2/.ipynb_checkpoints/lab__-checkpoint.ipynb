{
 "cells": [
  {
   "cell_type": "markdown",
   "metadata": {
    "collapsed": true
   },
   "source": [
    "# Лабораторная работа 2 \"Моделирование дискретных случайных величин (БСВ)\"\n",
    "\n",
    "## Ширяева Ольга, 4 курс, 3 группа\n",
    "\n",
    "## Вариант 12\n",
    "\n",
    "## Бернулли – Bi(1,p), p = 0.9; Геометрическое – G(p), p = 0.7"
   ]
  },
  {
   "cell_type": "markdown",
   "metadata": {},
   "source": [
    "## Задание 1.\n",
    "\n",
    "### Осуществить моделирование n = 1000 реализаций СВ из заданных дискретных распределений. \n",
    "\n",
    "###  Бернулли https://ru.wikipedia.org/wiki/%D0%A0%D0%B0%D1%81%D0%BF%D1%80%D0%B5%D0%B4%D0%B5%D0%BB%D0%B5%D0%BD%D0%B8%D0%B5_%D0%91%D0%B5%D1%80%D0%BD%D1%83%D0%BB%D0%BB%D0%B8\n",
    "\n",
    "### Геометрическое https://ru.wikipedia.org/wiki/%D0%93%D0%B5%D0%BE%D0%BC%D0%B5%D1%82%D1%80%D0%B8%D1%87%D0%B5%D1%81%D0%BA%D0%BE%D0%B5_%D1%80%D0%B0%D1%81%D0%BF%D1%80%D0%B5%D0%B4%D0%B5%D0%BB%D0%B5%D0%BD%D0%B8%D0%B5\n"
   ]
  },
  {
   "cell_type": "code",
   "execution_count": 474,
   "metadata": {},
   "outputs": [],
   "source": [
    "p_bernoulli = 0.9\n",
    "p_geometric = 0.7\n",
    "n = 1000"
   ]
  },
  {
   "cell_type": "code",
   "execution_count": 475,
   "metadata": {},
   "outputs": [],
   "source": [
    "from random import random\n",
    "\n",
    "def bernoulli(p, n):\n",
    "    for i in range (n):\n",
    "        yield 0 if p < random() else 1"
   ]
  },
  {
   "cell_type": "code",
   "execution_count": 476,
   "metadata": {},
   "outputs": [
    {
     "name": "stdout",
     "output_type": "stream",
     "text": [
      "1\n",
      "1\n",
      "1\n",
      "1\n",
      "0\n",
      "1\n",
      "1\n",
      "1\n",
      "1\n",
      "1\n"
     ]
    }
   ],
   "source": [
    "bernoulli_seq = list(bernoulli(p_bernoulli, n))\n",
    "\n",
    "for i in range(10):\n",
    "    print(bernoulli_seq[int(random() * n)])"
   ]
  },
  {
   "cell_type": "code",
   "execution_count": 477,
   "metadata": {},
   "outputs": [],
   "source": [
    "def geometric_v1(p, n):\n",
    "    for i in range(n):\n",
    "        b = list(bernoulli(p, int(n)))\n",
    "        i = 0\n",
    "        while i < len(b):\n",
    "            if b[i] == 1:\n",
    "                break\n",
    "            i += 1\n",
    "        yield i\n",
    "    "
   ]
  },
  {
   "cell_type": "code",
   "execution_count": 478,
   "metadata": {},
   "outputs": [
    {
     "name": "stdout",
     "output_type": "stream",
     "text": [
      "0\n",
      "1\n",
      "2\n",
      "1\n",
      "0\n",
      "0\n",
      "1\n",
      "0\n",
      "0\n",
      "0\n"
     ]
    }
   ],
   "source": [
    "geometric_seq_v1 = list(geometric_v1(p_geometric, n))\n",
    "\n",
    "for i in range(10):\n",
    "    print(geometric_seq_v1[int(random() * n)])"
   ]
  },
  {
   "cell_type": "code",
   "execution_count": 479,
   "metadata": {},
   "outputs": [],
   "source": [
    "import math\n",
    "\n",
    "def geometric_v2(p, n):\n",
    "    for i in range(n):\n",
    "        a = random()\n",
    "        x = abs(math.ceil(math.log2(a) / math.log2(1 - p)))\n",
    "        yield x     "
   ]
  },
  {
   "cell_type": "code",
   "execution_count": 480,
   "metadata": {},
   "outputs": [
    {
     "name": "stdout",
     "output_type": "stream",
     "text": [
      "1\n",
      "1\n",
      "1\n",
      "1\n",
      "1\n",
      "2\n",
      "1\n",
      "1\n",
      "2\n",
      "2\n"
     ]
    }
   ],
   "source": [
    "geometric_seq_v2 = list(geometric_v2(p_geometric, n))\n",
    "\n",
    "for i in range(10):\n",
    "    print(geometric_seq_v2[int(random() * n)])"
   ]
  },
  {
   "cell_type": "code",
   "execution_count": 481,
   "metadata": {},
   "outputs": [],
   "source": [
    "def expectation(seq):\n",
    "    sum = 0.\n",
    "    for value in seq:\n",
    "        sum += value\n",
    "        \n",
    "    return sum / len(seq)\n",
    "\n",
    "def variance(seq, exp):\n",
    "    var = 0.\n",
    "    for value in seq:\n",
    "        var += (value - exp) ** 2\n",
    "    \n",
    "    return var / len(seq)"
   ]
  },
  {
   "cell_type": "code",
   "execution_count": 482,
   "metadata": {},
   "outputs": [],
   "source": [
    "bernoulli_expectation = p_bernoulli\n",
    "bernoulli_variance = p_bernoulli * (1 - p_bernoulli)\n",
    "geometric_expectation_v1 = (1 - p_geometric) / p_geometric\n",
    "geometric_expectation_v2 = 1 / p_geometric\n",
    "geometric_variance = (1 - p_geometric) / p_geometric ** 2"
   ]
  },
  {
   "cell_type": "code",
   "execution_count": 483,
   "metadata": {},
   "outputs": [],
   "source": [
    "bernoulli_exp = expectation(bernoulli_seq)\n",
    "bernoulli_var = variance(bernoulli_seq, bernoulli_exp)\n",
    "\n",
    "geometric_exp_v1 = expectation(geometric_seq_v1)\n",
    "geometric_var_v1 = variance(geometric_seq_v1, geometric_exp_v1)\n",
    "\n",
    "\n",
    "geometric_exp_v2 = expectation(geometric_seq_v2)\n",
    "geometric_var_v2 = variance(geometric_seq_v2, geometric_exp_v2)"
   ]
  },
  {
   "cell_type": "code",
   "execution_count": 484,
   "metadata": {},
   "outputs": [
    {
     "name": "stdout",
     "output_type": "stream",
     "text": [
      "Bernoulli\n",
      "Theoretic : E = 0.9, D = 0.08999999999999998\n",
      "Actual :    E = 0.902, D = 0.08839599999999974\n",
      "\n",
      "Geometric Version 1\n",
      "Theoretic : E = 0.42857142857142866, D = 0.6122448979591838\n",
      "Actual :    E = 0.411, D = 0.5460790000000045\n",
      "\n",
      "Geometric Version 2\n",
      "Theoretic : E = 1.4285714285714286, D = 0.6122448979591838\n",
      "Actual :    E = 1.44, D = 0.6023999999999984\n"
     ]
    }
   ],
   "source": [
    "print('Bernoulli')\n",
    "print('Theoretic : E = {}, D = {}'.format(bernoulli_expectation, bernoulli_variance))\n",
    "print('Actual :    E = {}, D = {}'.format(bernoulli_exp, bernoulli_var))\n",
    "print()\n",
    "print('Geometric Version 1')\n",
    "print('Theoretic : E = {}, D = {}'.format(geometric_expectation_v1, geometric_variance))\n",
    "print('Actual :    E = {}, D = {}'.format(geometric_exp_v1, geometric_var_v1))\n",
    "print()\n",
    "print('Geometric Version 2')\n",
    "print('Theoretic : E = {}, D = {}'.format(geometric_expectation_v2, geometric_variance))\n",
    "print('Actual :    E = {}, D = {}'.format(geometric_exp_v2, geometric_var_v2))\n"
   ]
  },
  {
   "cell_type": "code",
   "execution_count": 485,
   "metadata": {},
   "outputs": [],
   "source": [
    "def bernoulli_probabilty(x):\n",
    "    if x == 1:\n",
    "        return p_bernoulli\n",
    "    else:\n",
    "        return 1 - p_bernoulli\n",
    "    \n",
    "def geometric_probability_v1(x):\n",
    "    return (1 - p_geometric) ** x * p_geometric\n",
    "    \n",
    "def geometric_probability_v2(x):\n",
    "    return (1 - p_geometric) ** (x - 1) * p_geometric    "
   ]
  },
  {
   "cell_type": "code",
   "execution_count": 486,
   "metadata": {},
   "outputs": [],
   "source": [
    "def get_bernoulli_frequencies(seq):\n",
    "    zeroes = 0\n",
    "    ones = 0\n",
    "    \n",
    "    for value in seq:\n",
    "        if value is 0:\n",
    "            zeroes += 1\n",
    "        else:\n",
    "            ones += 1\n",
    "    \n",
    "    return [zeroes, ones]\n",
    "\n",
    "def bernoulli_chi_square(seq):\n",
    "    freqs = get_bernoulli_frequencies(bernoulli_seq)\n",
    "    size = len(seq)\n",
    "    return (freqs[0] - (1 - p_bernoulli) * size) ** 2 / ((1 - p_bernoulli) * size) + (freqs[1] - p_bernoulli * size) ** 2 / (p_bernoulli * size)"
   ]
  },
  {
   "cell_type": "code",
   "execution_count": 487,
   "metadata": {},
   "outputs": [],
   "source": [
    "def geometric_freqs(seq, n):\n",
    "    seq = sorted(seq, key=float)\n",
    "    size = len(seq)\n",
    "    segment_size = size\n",
    "    frequencies = []\n",
    "    j = 0\n",
    "    for i in range(n):\n",
    "        count = 0    \n",
    "        while j < size and seq[j] == i:\n",
    "                j += 1\n",
    "                count += 1\n",
    "        frequencies.append(count)\n",
    "    return frequencies\n",
    "\n",
    "def geometric_chi_square(seq, prob_function):\n",
    "    chi = 0.\n",
    "    size= len(seq)\n",
    "    geom = sorted(seq)\n",
    "    max = geom[len(geom) - 1]\n",
    "    freqs = geometric_freqs(geom, max)\n",
    "    freqs_size = len(freqs)\n",
    "    for i in range(freqs_size):\n",
    "        value = freqs[i]\n",
    "        probability = prob_function(i)\n",
    "        if i == 0 and value == 0:\n",
    "            continue\n",
    "        chi += (value - probability * size) ** 2 / (probability * size)\n",
    "        \n",
    "    return chi, freqs_size   "
   ]
  },
  {
   "cell_type": "code",
   "execution_count": 488,
   "metadata": {},
   "outputs": [],
   "source": [
    "CHI_SQUARE_DELTA = {\n",
    "    2: 3.841,\n",
    "    3: 5.991,\n",
    "    4: 7.815,\n",
    "    5: 9.488,\n",
    "    6: 11.070,\n",
    "    7: 12.592,\n",
    "    8: 14.067,\n",
    "    9: 15.507,\n",
    "    10: 16.919,\n",
    "    11: 18.307,\n",
    "    12: 19.675,\n",
    "    13: 21.026,\n",
    "    14: 22.362,\n",
    "    15: 23.685,\n",
    "    16: 24.996,\n",
    "    17: 26.296,\n",
    "    18: 27.587,\n",
    "    19: 28.869,\n",
    "    20: 30.144,\n",
    "    21: 31.410,\n",
    "    22: 32.671,\n",
    "    23: 33.924,\n",
    "    24: 35.172,\n",
    "    25: 36.415,\n",
    "    26: 37.652,\n",
    "    27: 38.885,\n",
    "    28: 40.113,\n",
    "    29: 41.337,\n",
    "    30: 42.557\n",
    "}"
   ]
  },
  {
   "cell_type": "code",
   "execution_count": 489,
   "metadata": {},
   "outputs": [
    {
     "name": "stdout",
     "output_type": "stream",
     "text": [
      "Bernoulli chi-square : 0.04444444444444332 < 3,8415\n",
      "Geometric chi-square version 1: 3.9655731922398605 < 9.488, k = 4\n",
      "Geometric chi-square version 2: 7.900229276895936 < 11.07, k = 5\n"
     ]
    }
   ],
   "source": [
    "b_chi = bernoulli_chi_square(bernoulli_seq)\n",
    "g_chi_v1, size_v1 = geometric_chi_square(geometric_seq_v1,geometric_probability_v1)\n",
    "g_chi_v2, size_v2 = geometric_chi_square(geometric_seq_v2,geometric_probability_v2)\n",
    "\n",
    "print('Bernoulli chi-square : {} < 3,8415'.format(b_chi))\n",
    "print('Geometric chi-square version 1: {} < {}, k = {}'.format(g_chi_v1, CHI_SQUARE_DELTA[size_v1], size_v1 - 1))\n",
    "print('Geometric chi-square version 2: {} < {}, k = {}'.format(g_chi_v2, CHI_SQUARE_DELTA[size_v2], size_v2 - 1))"
   ]
  }
 ],
 "metadata": {
  "kernelspec": {
   "display_name": "Python 3",
   "language": "python",
   "name": "python3"
  },
  "language_info": {
   "codemirror_mode": {
    "name": "ipython",
    "version": 3
   },
   "file_extension": ".py",
   "mimetype": "text/x-python",
   "name": "python",
   "nbconvert_exporter": "python",
   "pygments_lexer": "ipython3",
   "version": "3.6.6"
  }
 },
 "nbformat": 4,
 "nbformat_minor": 1
}
