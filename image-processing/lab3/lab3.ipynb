{
 "cells": [
  {
   "cell_type": "markdown",
   "metadata": {
    "collapsed": true
   },
   "source": [
    "# Лабораторная работа №3\n",
    "\n",
    "## Ширяева Ольга, 4 курс, 3 группа"
   ]
  },
  {
   "cell_type": "markdown",
   "metadata": {},
   "source": [
    "Построение выпуклой оболочки бинарного изображения\n",
    "\n",
    "Разработать программу построения выпуклой оболочки на основе преобразований утолщения для бинарных изображений.\n",
    "\n",
    "Алгоритмы - в 5-й главе первой части спецкурса (с. 22-24)"
   ]
  },
  {
   "cell_type": "code",
   "execution_count": 11,
   "metadata": {},
   "outputs": [
    {
     "data": {
      "image/png": "[encoded data removed]",
      "text/plain": [
       "<Figure size 432x288 with 1 Axes>"
      ]
     },
     "metadata": {
      "needs_background": "light"
     },
     "output_type": "display_data"
    }
   ],
   "source": [
    "import numpy as np\n",
    "from skimage import data\n",
    "from skimage import io\n",
    "# I do not know why but it didn't work correct with convex hull\n",
    "# You may replace the scipy import below and see the difference\n",
    "#from skimage.morphology import binary_erosion\n",
    "from scipy.ndimage.morphology import binary_erosion\n",
    "from matplotlib import pyplot as plt\n",
    "%matplotlib inline\n",
    "\n",
    "data = data.horse()\n",
    "data = np.invert(data)\n",
    "plt.axis('off')\n",
    "io.imshow(data)\n",
    "io.show()"
   ]
  },
  {
   "cell_type": "code",
   "execution_count": 12,
   "metadata": {},
   "outputs": [],
   "source": [
    "def cross(x, a, b):\n",
    "    x1 = binary_erosion(x, a)\n",
    "    x2 = binary_erosion(np.logical_not(x), b)\n",
    "    return np.logical_and(x1, x2)\n",
    "\n",
    "\n",
    "def thicker(x, a, b):\n",
    "    return np.logical_or(x, cross(x, a, b))\n",
    "\n",
    "\n",
    "def plot_results(y):\n",
    "    plt.imshow(y, cmap=plt.cm.gray)\n",
    "    plt.axis('off')\n",
    "    plt.title('Convex hull')\n",
    "    plt.show()"
   ]
  },
  {
   "cell_type": "code",
   "execution_count": 13,
   "metadata": {},
   "outputs": [],
   "source": [
    "def iterate_t1_t4(image):\n",
    "    a = np.array([[True, True, True],\n",
    "                  [False, False, True],\n",
    "                  [False, False, False]])\n",
    "    \n",
    "    b = np.array([[False, False, False],\n",
    "                  [False, True, False],\n",
    "                  [False, False, False]])\n",
    "    \n",
    "    for i in range(0, 4):\n",
    "        image = thicker(image, a, b)\n",
    "        a = np.rot90(a)\n",
    "        \n",
    "    return image\n",
    "        \n",
    "        \n",
    "def iterate_t5_t8(image):\n",
    "    a = np.array([[True, True, True],\n",
    "                  [True, False, False],\n",
    "                  [False, False, False]])\n",
    "    \n",
    "    b = np.array([[False, False, False],\n",
    "                  [False, True, False],\n",
    "                  [False, False, False]])\n",
    "    \n",
    "    for i in range(0, 4):\n",
    "        image = thicker(image, a, b)\n",
    "        a = np.rot90(a)\n",
    "                \n",
    "    return image\n",
    "\n",
    "\n",
    "def build_convex_hull(x):\n",
    "    image = x.copy()\n",
    "    n = 0\n",
    "\n",
    "    while True:\n",
    "        current = image.copy()\n",
    "        image = iterate_t1_t4(image)\n",
    "        image = iterate_t5_t8(image)   \n",
    "        \n",
    "        n += 1\n",
    "        if (current == image).all():\n",
    "            break\n",
    "    \n",
    "    return image, n"
   ]
  },
  {
   "cell_type": "code",
   "execution_count": 14,
   "metadata": {},
   "outputs": [
    {
     "name": "stdout",
     "output_type": "stream",
     "text": [
      "Iterations:  436\n"
     ]
    },
    {
     "data": {
      "image/png": "[encoded data removed]",
      "text/plain": [
       "<Figure size 432x288 with 1 Axes>"
      ]
     },
     "metadata": {
      "needs_background": "light"
     },
     "output_type": "display_data"
    }
   ],
   "source": [
    "convex_hull, iterations_num = build_convex_hull(data)       \n",
    "print(\"Iterations: \", iterations_num)\n",
    "plot_results(convex_hull)"
   ]
  },
  {
   "cell_type": "code",
   "execution_count": null,
   "metadata": {},
   "outputs": [],
   "source": []
  }
 ],
 "metadata": {
  "kernelspec": {
   "display_name": "Python 3",
   "language": "python",
   "name": "python3"
  },
  "language_info": {
   "codemirror_mode": {
    "name": "ipython",
    "version": 3
   },
   "file_extension": ".py",
   "mimetype": "text/x-python",
   "name": "python",
   "nbconvert_exporter": "python",
   "pygments_lexer": "ipython3",
   "version": "3.6.6"
  }
 },
 "nbformat": 4,
 "nbformat_minor": 1
}
