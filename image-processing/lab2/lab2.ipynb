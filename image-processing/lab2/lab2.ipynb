{
 "cells": [
  {
   "cell_type": "markdown",
   "metadata": {
    "collapsed": true
   },
   "source": [
    "# Лабораторная работа №2\n",
    "\n",
    "## Ширяева Ольга, 4 курс, 3 группа"
   ]
  },
  {
   "cell_type": "markdown",
   "metadata": {},
   "source": [
    "Построение скелета бинарного изображения\n",
    "\n",
    "Разработать программу построения скелета на основе преобразований утоньшения для бинарных изображений."
   ]
  },
  {
   "cell_type": "code",
   "execution_count": 16,
   "metadata": {},
   "outputs": [
    {
     "data": {
      "image/png": "[encoded data removed]",
      "text/plain": [
       "<Figure size 432x288 with 1 Axes>"
      ]
     },
     "metadata": {
      "needs_background": "light"
     },
     "output_type": "display_data"
    }
   ],
   "source": [
    "import numpy as np\n",
    "from skimage import data\n",
    "from skimage import io\n",
    "from skimage.morphology import binary_erosion\n",
    "\n",
    "from matplotlib import pyplot as plt\n",
    "\n",
    "%matplotlib inline\n",
    "\n",
    "data = data.horse()\n",
    "data = np.invert(data)\n",
    "io.imshow(data)\n",
    "io.show()"
   ]
  },
  {
   "cell_type": "code",
   "execution_count": 17,
   "metadata": {},
   "outputs": [],
   "source": [
    "def cross(x, a, b):\n",
    "    x1 = binary_erosion(x, a)\n",
    "    x2 = binary_erosion(np.logical_not(x), b)\n",
    "    return np.logical_and(x1, x2)\n",
    "\n",
    "\n",
    "def thinner(x, a, b):\n",
    "    return np.logical_and(x, np.logical_not(cross(x, a, b)))\n",
    "\n",
    "\n",
    "def plot_results(y):\n",
    "    plt.imshow(y, cmap=plt.cm.gray)\n",
    "    plt.axis('off')\n",
    "    plt.title('Skeleton')\n",
    "    plt.show()"
   ]
  },
  {
   "cell_type": "code",
   "execution_count": 21,
   "metadata": {},
   "outputs": [],
   "source": [
    "def iterate_t1_t4(image):\n",
    "    a = np.array([[True, True, True],\n",
    "                  [False, True, False],\n",
    "                  [False, False, False]])\n",
    "    \n",
    "    b = np.array([[False, False, False],\n",
    "                  [False, False, False],\n",
    "                  [True, True, True]])\n",
    "    \n",
    "    for i in range(0, 4):\n",
    "        image = thinner(image, a, b)\n",
    "        a = np.rot90(a)\n",
    "        b = np.rot90(b)\n",
    "        \n",
    "    return image\n",
    "        \n",
    "        \n",
    "def iterate_t5_t8(image):\n",
    "    a = np.array([ [False, True, False],\n",
    "                   [False, True, True],\n",
    "                   [False, False, False]])\n",
    "    \n",
    "    b = np.array([ [False, False, False],\n",
    "                   [True, False, False],\n",
    "                   [True, True, False]])\n",
    "    \n",
    "    for i in range(0, 4):\n",
    "        image = thinner(image, a, b)\n",
    "        a = np.rot90(a)\n",
    "        b = np.rot90(b)\n",
    "                \n",
    "    return image\n",
    "\n",
    "\n",
    "def build_skeleton(x):\n",
    "    image = x.copy()\n",
    "    n = 0\n",
    "\n",
    "    while True:\n",
    "        current = image.copy()\n",
    "        image = iterate_t1_t4(image)\n",
    "        image = iterate_t5_t8(image)      \n",
    "        n += 1\n",
    "    \n",
    "        if (current == image).all():\n",
    "            break\n",
    "    \n",
    "    return image, n"
   ]
  },
  {
   "cell_type": "code",
   "execution_count": 22,
   "metadata": {},
   "outputs": [
    {
     "name": "stdout",
     "output_type": "stream",
     "text": [
      "Iterations:  58\n"
     ]
    },
    {
     "data": {
      "image/png": "[encoded data removed]",
      "text/plain": [
       "<Figure size 432x288 with 1 Axes>"
      ]
     },
     "metadata": {
      "needs_background": "light"
     },
     "output_type": "display_data"
    }
   ],
   "source": [
    "skeleton, iterations_num = build_skeleton(data)\n",
    "        \n",
    "print(\"Iterations: \", iterations_num)\n",
    "\n",
    "plot_results(skeleton)"
   ]
  }
 ],
 "metadata": {
  "kernelspec": {
   "display_name": "Python 3",
   "language": "python",
   "name": "python3"
  },
  "language_info": {
   "codemirror_mode": {
    "name": "ipython",
    "version": 3
   },
   "file_extension": ".py",
   "mimetype": "text/x-python",
   "name": "python",
   "nbconvert_exporter": "python",
   "pygments_lexer": "ipython3",
   "version": "3.6.6"
  }
 },
 "nbformat": 4,
 "nbformat_minor": 1
}
