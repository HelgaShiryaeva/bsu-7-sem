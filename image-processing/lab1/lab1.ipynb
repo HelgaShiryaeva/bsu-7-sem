{
 "cells": [
  {
   "cell_type": "markdown",
   "metadata": {
    "collapsed": true
   },
   "source": [
    "# Лабораторная работа №1\n",
    "\n",
    "## Ширяева Ольга, 4 курс, 3 группа"
   ]
  },
  {
   "cell_type": "markdown",
   "metadata": {},
   "source": [
    "1.Построение морфологического скелета\n",
    "\n",
    "Разработать программу построения морфологического скелета изображения и восстановления изображения по морфологическому скелету для бинарных изображений и различных (произвольных) структурирующих элементов.\n",
    "\n",
    " \n",
    "\n",
    "Алгоритмы построения скелета и восстановления изображения - на стр. 19 первой части спецкурса (ссылка в описании курса).\n",
    "\n",
    " \n",
    "\n",
    "В качестве исходных данных можно брать встроенные изображения из модуля skimage.data. Например:\n",
    "\n",
    "  from skimage import data\n",
    "\n",
    "  image = data.horse()\n",
    "\n",
    " \n",
    "\n",
    "Для операций с бинарными изображениями рекомендуется использовать функции binary_dilation, binary_erosion, logical_and/or/xor из библиотек numpy и skimage.morphology."
   ]
  },
  {
   "cell_type": "code",
   "execution_count": 5,
   "metadata": {},
   "outputs": [],
   "source": [
    "import numpy as np\n",
    "from skimage.morphology import binary_dilation, binary_erosion\n",
    "from skimage.morphology.selem import rectangle, disk, diamond\n",
    "from skimage import data, io\n",
    "from matplotlib import pyplot as plt\n",
    "from skimage.filters import threshold_otsu\n",
    "from skimage.color import rgb2gray\n",
    "\n",
    "%matplotlib inline"
   ]
  },
  {
   "cell_type": "code",
   "execution_count": 6,
   "metadata": {},
   "outputs": [
    {
     "data": {
      "image/png": "[encoded data removed]",
      "text/plain": [
       "<Figure size 432x288 with 1 Axes>"
      ]
     },
     "metadata": {
      "needs_background": "light"
     },
     "output_type": "display_data"
    }
   ],
   "source": [
    "def plot_image(image):\n",
    "    io.imshow(image)\n",
    "    plt.axis('off')\n",
    "    plt.show()\n",
    "\n",
    "    \n",
    "data = data.horse()\n",
    "data = np.invert(data)\n",
    "plot_image(data)"
   ]
  },
  {
   "cell_type": "code",
   "execution_count": 7,
   "metadata": {},
   "outputs": [
    {
     "data": {
      "image/png": "[encoded data removed]",
      "text/plain": [
       "<Figure size 432x288 with 1 Axes>"
      ]
     },
     "metadata": {
      "needs_background": "light"
     },
     "output_type": "display_data"
    },
    {
     "data": {
      "image/png": "[encoded data removed]",
      "text/plain": [
       "<Figure size 432x288 with 1 Axes>"
      ]
     },
     "metadata": {
      "needs_background": "light"
     },
     "output_type": "display_data"
    },
    {
     "data": {
      "image/png": "[encoded data removed]",
      "text/plain": [
       "<Figure size 432x288 with 1 Axes>"
      ]
     },
     "metadata": {
      "needs_background": "light"
     },
     "output_type": "display_data"
    },
    {
     "data": {
      "image/png": "[encoded data removed]",
      "text/plain": [
       "<Figure size 432x288 with 1 Axes>"
      ]
     },
     "metadata": {
      "needs_background": "light"
     },
     "output_type": "display_data"
    },
    {
     "data": {
      "image/png": "[encoded data removed]",
      "text/plain": [
       "<Figure size 432x288 with 1 Axes>"
      ]
     },
     "metadata": {
      "needs_background": "light"
     },
     "output_type": "display_data"
    },
    {
     "data": {
      "image/png": "[encoded data removed]",
      "text/plain": [
       "<Figure size 432x288 with 1 Axes>"
      ]
     },
     "metadata": {
      "needs_background": "light"
     },
     "output_type": "display_data"
    }
   ],
   "source": [
    "def get_skeleton(x, b): \n",
    "    n = 0\n",
    "    y1 = x.copy()\n",
    "    y2 = None\n",
    "    y3 = None\n",
    "    S = []\n",
    "    \n",
    "    while(True):\n",
    "        y2 = binary_erosion(y1, b)\n",
    "        if np.all(y2 <= 0):\n",
    "            S.append(y1)\n",
    "            break\n",
    "        y3 = binary_dilation(y2, b)\n",
    "        S.append(y1 ^ y3)\n",
    "        y1 = y2\n",
    "        n = n + 1\n",
    "        res = np.zeros((len(x[:, 1]), len(x[1, :])))\n",
    "        \n",
    "        for step in S:\n",
    "            res += step\n",
    "            \n",
    "    return S, res\n",
    "\n",
    "\n",
    "def plot_results(y, b):\n",
    "    plt.imshow(y, cmap=plt.cm.gray)\n",
    "    plt.axis('off')\n",
    "    plt.title('Skeleton')\n",
    "    plt.show()\n",
    "    plt.imshow(b, cmap=plt.cm.gray)\n",
    "    plt.axis('off')\n",
    "    plt.title('Structure element')\n",
    "    plt.show()\n",
    "    \n",
    "\n",
    "b1 = disk(3)\n",
    "b2 = rectangle(3, 3)\n",
    "b3 = diamond(3)\n",
    "S1, y1 = get_skeleton(data, b1)\n",
    "S2, y2 = get_skeleton(data, b2)\n",
    "S3, y3 = get_skeleton(data, b3)\n",
    "plot_results(y1, b1)\n",
    "plot_results(y2, b2)\n",
    "plot_results(y3, b3)"
   ]
  },
  {
   "cell_type": "code",
   "execution_count": 8,
   "metadata": {},
   "outputs": [],
   "source": [
    "def restore(steps, structure, x):\n",
    "    width, height = x.shape[0], x.shape[1]\n",
    "    res = np.zeros((width, height))\n",
    "    for i in range(len(steps)):\n",
    "        res = np.logical_or(res, steps[len(steps) - 1 - i])\n",
    "        res = binary_dilation(res, selem=structure)\n",
    "        \n",
    "    return res"
   ]
  },
  {
   "cell_type": "code",
   "execution_count": null,
   "metadata": {},
   "outputs": [],
   "source": [
    "plot_image(restore(S1, b1, y1))\n",
    "plot_image(restore(S2, b2, y2))\n",
    "plot_image(restore(S3, b3, y3))\n"
   ]
  }
 ],
 "metadata": {
  "kernelspec": {
   "display_name": "Python 3",
   "language": "python",
   "name": "python3"
  },
  "language_info": {
   "codemirror_mode": {
    "name": "ipython",
    "version": 3
   },
   "file_extension": ".py",
   "mimetype": "text/x-python",
   "name": "python",
   "nbconvert_exporter": "python",
   "pygments_lexer": "ipython3",
   "version": "3.6.6"
  }
 },
 "nbformat": 4,
 "nbformat_minor": 1
}
